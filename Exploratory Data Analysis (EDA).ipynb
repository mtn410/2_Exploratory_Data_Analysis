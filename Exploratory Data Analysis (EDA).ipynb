{
 "cells": [
  {
   "cell_type": "markdown",
   "metadata": {},
   "source": [
    "# Research on car sales ads\n",
    "\n",
    "You're an analyst at Crankshaft List. Hundreds of free advertisements for vehicles are published on your site every day.\n",
    "\n",
    "You need to study data collected over the last few years and determine which factors influence the price of a vehicle. "
   ]
  },
  {
   "cell_type": "markdown",
   "metadata": {},
   "source": [
    "## Open the data file and study the general information. "
   ]
  },
  {
   "cell_type": "markdown",
   "metadata": {},
   "source": [
    "Read the data file and import the necessary libraries:"
   ]
  },
  {
   "cell_type": "code",
   "execution_count": 1,
   "metadata": {},
   "outputs": [
    {
     "name": "stdout",
     "output_type": "stream",
     "text": [
      "File read successfully\n"
     ]
    }
   ],
   "source": [
    "import pandas as pd\n",
    "import numpy as np\n",
    "\n",
    "import matplotlib.pyplot as plt\n",
    "%matplotlib inline\n",
    "\n",
    "\n",
    "try:\n",
    "    data = pd.read_csv('vehicles_us.csv')\n",
    "except:\n",
    "    data = pd.read_csv('/datasets/vehicles_us.csv')\n",
    "    \n",
    "print('File read successfully')"
   ]
  },
  {
   "cell_type": "markdown",
   "metadata": {},
   "source": [
    "**Study the general information:**"
   ]
  },
  {
   "cell_type": "code",
   "execution_count": 2,
   "metadata": {},
   "outputs": [
    {
     "data": {
      "text/html": [
       "<div>\n",
       "<style scoped>\n",
       "    .dataframe tbody tr th:only-of-type {\n",
       "        vertical-align: middle;\n",
       "    }\n",
       "\n",
       "    .dataframe tbody tr th {\n",
       "        vertical-align: top;\n",
       "    }\n",
       "\n",
       "    .dataframe thead th {\n",
       "        text-align: right;\n",
       "    }\n",
       "</style>\n",
       "<table border=\"1\" class=\"dataframe\">\n",
       "  <thead>\n",
       "    <tr style=\"text-align: right;\">\n",
       "      <th></th>\n",
       "      <th>price</th>\n",
       "      <th>model_year</th>\n",
       "      <th>model</th>\n",
       "      <th>condition</th>\n",
       "      <th>cylinders</th>\n",
       "      <th>fuel</th>\n",
       "      <th>odometer</th>\n",
       "      <th>transmission</th>\n",
       "      <th>type</th>\n",
       "      <th>paint_color</th>\n",
       "      <th>is_4wd</th>\n",
       "      <th>date_posted</th>\n",
       "      <th>days_listed</th>\n",
       "    </tr>\n",
       "  </thead>\n",
       "  <tbody>\n",
       "    <tr>\n",
       "      <td>0</td>\n",
       "      <td>9400</td>\n",
       "      <td>2011.0</td>\n",
       "      <td>bmw x5</td>\n",
       "      <td>good</td>\n",
       "      <td>6.0</td>\n",
       "      <td>gas</td>\n",
       "      <td>145000.0</td>\n",
       "      <td>automatic</td>\n",
       "      <td>SUV</td>\n",
       "      <td>NaN</td>\n",
       "      <td>1.0</td>\n",
       "      <td>2018-06-23</td>\n",
       "      <td>19</td>\n",
       "    </tr>\n",
       "    <tr>\n",
       "      <td>1</td>\n",
       "      <td>25500</td>\n",
       "      <td>NaN</td>\n",
       "      <td>ford f-150</td>\n",
       "      <td>good</td>\n",
       "      <td>6.0</td>\n",
       "      <td>gas</td>\n",
       "      <td>88705.0</td>\n",
       "      <td>automatic</td>\n",
       "      <td>pickup</td>\n",
       "      <td>white</td>\n",
       "      <td>1.0</td>\n",
       "      <td>2018-10-19</td>\n",
       "      <td>50</td>\n",
       "    </tr>\n",
       "    <tr>\n",
       "      <td>2</td>\n",
       "      <td>5500</td>\n",
       "      <td>2013.0</td>\n",
       "      <td>hyundai sonata</td>\n",
       "      <td>like new</td>\n",
       "      <td>4.0</td>\n",
       "      <td>gas</td>\n",
       "      <td>110000.0</td>\n",
       "      <td>automatic</td>\n",
       "      <td>sedan</td>\n",
       "      <td>red</td>\n",
       "      <td>NaN</td>\n",
       "      <td>2019-02-07</td>\n",
       "      <td>79</td>\n",
       "    </tr>\n",
       "    <tr>\n",
       "      <td>3</td>\n",
       "      <td>1500</td>\n",
       "      <td>2003.0</td>\n",
       "      <td>ford f-150</td>\n",
       "      <td>fair</td>\n",
       "      <td>8.0</td>\n",
       "      <td>gas</td>\n",
       "      <td>NaN</td>\n",
       "      <td>automatic</td>\n",
       "      <td>pickup</td>\n",
       "      <td>NaN</td>\n",
       "      <td>NaN</td>\n",
       "      <td>2019-03-22</td>\n",
       "      <td>9</td>\n",
       "    </tr>\n",
       "    <tr>\n",
       "      <td>4</td>\n",
       "      <td>14900</td>\n",
       "      <td>2017.0</td>\n",
       "      <td>chrysler 200</td>\n",
       "      <td>excellent</td>\n",
       "      <td>4.0</td>\n",
       "      <td>gas</td>\n",
       "      <td>80903.0</td>\n",
       "      <td>automatic</td>\n",
       "      <td>sedan</td>\n",
       "      <td>black</td>\n",
       "      <td>NaN</td>\n",
       "      <td>2019-04-02</td>\n",
       "      <td>28</td>\n",
       "    </tr>\n",
       "  </tbody>\n",
       "</table>\n",
       "</div>"
      ],
      "text/plain": [
       "   price  model_year           model  condition  cylinders fuel  odometer  \\\n",
       "0   9400      2011.0          bmw x5       good        6.0  gas  145000.0   \n",
       "1  25500         NaN      ford f-150       good        6.0  gas   88705.0   \n",
       "2   5500      2013.0  hyundai sonata   like new        4.0  gas  110000.0   \n",
       "3   1500      2003.0      ford f-150       fair        8.0  gas       NaN   \n",
       "4  14900      2017.0    chrysler 200  excellent        4.0  gas   80903.0   \n",
       "\n",
       "  transmission    type paint_color  is_4wd date_posted  days_listed  \n",
       "0    automatic     SUV         NaN     1.0  2018-06-23           19  \n",
       "1    automatic  pickup       white     1.0  2018-10-19           50  \n",
       "2    automatic   sedan         red     NaN  2019-02-07           79  \n",
       "3    automatic  pickup         NaN     NaN  2019-03-22            9  \n",
       "4    automatic   sedan       black     NaN  2019-04-02           28  "
      ]
     },
     "execution_count": 2,
     "metadata": {},
     "output_type": "execute_result"
    }
   ],
   "source": [
    "data.head()"
   ]
  },
  {
   "cell_type": "code",
   "execution_count": 3,
   "metadata": {},
   "outputs": [
    {
     "name": "stdout",
     "output_type": "stream",
     "text": [
      "<class 'pandas.core.frame.DataFrame'>\n",
      "RangeIndex: 51525 entries, 0 to 51524\n",
      "Data columns (total 13 columns):\n",
      "price           51525 non-null int64\n",
      "model_year      47906 non-null float64\n",
      "model           51525 non-null object\n",
      "condition       51525 non-null object\n",
      "cylinders       46265 non-null float64\n",
      "fuel            51525 non-null object\n",
      "odometer        43633 non-null float64\n",
      "transmission    51525 non-null object\n",
      "type            51525 non-null object\n",
      "paint_color     42258 non-null object\n",
      "is_4wd          25572 non-null float64\n",
      "date_posted     51525 non-null object\n",
      "days_listed     51525 non-null int64\n",
      "dtypes: float64(4), int64(2), object(7)\n",
      "memory usage: 5.1+ MB\n"
     ]
    }
   ],
   "source": [
    "data.info()"
   ]
  },
  {
   "cell_type": "code",
   "execution_count": 4,
   "metadata": {},
   "outputs": [
    {
     "data": {
      "text/html": [
       "<div>\n",
       "<style scoped>\n",
       "    .dataframe tbody tr th:only-of-type {\n",
       "        vertical-align: middle;\n",
       "    }\n",
       "\n",
       "    .dataframe tbody tr th {\n",
       "        vertical-align: top;\n",
       "    }\n",
       "\n",
       "    .dataframe thead th {\n",
       "        text-align: right;\n",
       "    }\n",
       "</style>\n",
       "<table border=\"1\" class=\"dataframe\">\n",
       "  <thead>\n",
       "    <tr style=\"text-align: right;\">\n",
       "      <th></th>\n",
       "      <th>price</th>\n",
       "      <th>model_year</th>\n",
       "      <th>cylinders</th>\n",
       "      <th>odometer</th>\n",
       "      <th>is_4wd</th>\n",
       "      <th>days_listed</th>\n",
       "    </tr>\n",
       "  </thead>\n",
       "  <tbody>\n",
       "    <tr>\n",
       "      <td>count</td>\n",
       "      <td>51525.000000</td>\n",
       "      <td>47906.000000</td>\n",
       "      <td>46265.000000</td>\n",
       "      <td>43633.000000</td>\n",
       "      <td>25572.0</td>\n",
       "      <td>51525.00000</td>\n",
       "    </tr>\n",
       "    <tr>\n",
       "      <td>mean</td>\n",
       "      <td>12132.464920</td>\n",
       "      <td>2009.750470</td>\n",
       "      <td>6.125235</td>\n",
       "      <td>115553.461738</td>\n",
       "      <td>1.0</td>\n",
       "      <td>39.55476</td>\n",
       "    </tr>\n",
       "    <tr>\n",
       "      <td>std</td>\n",
       "      <td>10040.803015</td>\n",
       "      <td>6.282065</td>\n",
       "      <td>1.660360</td>\n",
       "      <td>65094.611341</td>\n",
       "      <td>0.0</td>\n",
       "      <td>28.20427</td>\n",
       "    </tr>\n",
       "    <tr>\n",
       "      <td>min</td>\n",
       "      <td>1.000000</td>\n",
       "      <td>1908.000000</td>\n",
       "      <td>3.000000</td>\n",
       "      <td>0.000000</td>\n",
       "      <td>1.0</td>\n",
       "      <td>0.00000</td>\n",
       "    </tr>\n",
       "    <tr>\n",
       "      <td>25%</td>\n",
       "      <td>5000.000000</td>\n",
       "      <td>2006.000000</td>\n",
       "      <td>4.000000</td>\n",
       "      <td>70000.000000</td>\n",
       "      <td>1.0</td>\n",
       "      <td>19.00000</td>\n",
       "    </tr>\n",
       "    <tr>\n",
       "      <td>50%</td>\n",
       "      <td>9000.000000</td>\n",
       "      <td>2011.000000</td>\n",
       "      <td>6.000000</td>\n",
       "      <td>113000.000000</td>\n",
       "      <td>1.0</td>\n",
       "      <td>33.00000</td>\n",
       "    </tr>\n",
       "    <tr>\n",
       "      <td>75%</td>\n",
       "      <td>16839.000000</td>\n",
       "      <td>2014.000000</td>\n",
       "      <td>8.000000</td>\n",
       "      <td>155000.000000</td>\n",
       "      <td>1.0</td>\n",
       "      <td>53.00000</td>\n",
       "    </tr>\n",
       "    <tr>\n",
       "      <td>max</td>\n",
       "      <td>375000.000000</td>\n",
       "      <td>2019.000000</td>\n",
       "      <td>12.000000</td>\n",
       "      <td>990000.000000</td>\n",
       "      <td>1.0</td>\n",
       "      <td>271.00000</td>\n",
       "    </tr>\n",
       "  </tbody>\n",
       "</table>\n",
       "</div>"
      ],
      "text/plain": [
       "               price    model_year     cylinders       odometer   is_4wd  \\\n",
       "count   51525.000000  47906.000000  46265.000000   43633.000000  25572.0   \n",
       "mean    12132.464920   2009.750470      6.125235  115553.461738      1.0   \n",
       "std     10040.803015      6.282065      1.660360   65094.611341      0.0   \n",
       "min         1.000000   1908.000000      3.000000       0.000000      1.0   \n",
       "25%      5000.000000   2006.000000      4.000000   70000.000000      1.0   \n",
       "50%      9000.000000   2011.000000      6.000000  113000.000000      1.0   \n",
       "75%     16839.000000   2014.000000      8.000000  155000.000000      1.0   \n",
       "max    375000.000000   2019.000000     12.000000  990000.000000      1.0   \n",
       "\n",
       "       days_listed  \n",
       "count  51525.00000  \n",
       "mean      39.55476  \n",
       "std       28.20427  \n",
       "min        0.00000  \n",
       "25%       19.00000  \n",
       "50%       33.00000  \n",
       "75%       53.00000  \n",
       "max      271.00000  "
      ]
     },
     "execution_count": 4,
     "metadata": {},
     "output_type": "execute_result"
    }
   ],
   "source": [
    "data.describe()"
   ]
  },
  {
   "cell_type": "markdown",
   "metadata": {},
   "source": [
    "### Conclusion"
   ]
  },
  {
   "cell_type": "markdown",
   "metadata": {},
   "source": [
    "- There are **missing values in 5 columns**: model_year, cylinders, odometer, paint_color, is_4wd (almost 50% of data is missing here).\n",
    "- **5 columns need a data type change**: date_posted to datetime, odometer, model_year, is_4wd and cylinders from float to int. From the describe results we can assume that is_4wd is similar to a boolean type (1 for True, 0 for False). In this case we have NaN instead of 0 and we need to fix it.\n",
    "\n"
   ]
  },
  {
   "cell_type": "markdown",
   "metadata": {},
   "source": [
    "## Data preprocessing"
   ]
  },
  {
   "cell_type": "markdown",
   "metadata": {},
   "source": [
    "**Missing Values**"
   ]
  },
  {
   "cell_type": "code",
   "execution_count": 5,
   "metadata": {},
   "outputs": [
    {
     "data": {
      "text/plain": [
       "price               0\n",
       "model_year       3619\n",
       "model               0\n",
       "condition           0\n",
       "cylinders        5260\n",
       "fuel                0\n",
       "odometer         7892\n",
       "transmission        0\n",
       "type                0\n",
       "paint_color      9267\n",
       "is_4wd          25953\n",
       "date_posted         0\n",
       "days_listed         0\n",
       "dtype: int64"
      ]
     },
     "execution_count": 5,
     "metadata": {},
     "output_type": "execute_result"
    }
   ],
   "source": [
    "data.isnull().sum()"
   ]
  },
  {
   "cell_type": "code",
   "execution_count": 6,
   "metadata": {},
   "outputs": [
    {
     "data": {
      "text/plain": [
       "price           0.000000\n",
       "model_year      0.070238\n",
       "model           0.000000\n",
       "condition       0.000000\n",
       "cylinders       0.102086\n",
       "fuel            0.000000\n",
       "odometer        0.153168\n",
       "transmission    0.000000\n",
       "type            0.000000\n",
       "paint_color     0.179854\n",
       "is_4wd          0.503697\n",
       "date_posted     0.000000\n",
       "days_listed     0.000000\n",
       "dtype: float64"
      ]
     },
     "execution_count": 6,
     "metadata": {},
     "output_type": "execute_result"
    }
   ],
   "source": [
    "data.isnull().sum() / len(data)"
   ]
  },
  {
   "cell_type": "markdown",
   "metadata": {},
   "source": [
    "From previous data observation, we know that **is_4wd NaN values should be 0**. Let's fix it:"
   ]
  },
  {
   "cell_type": "code",
   "execution_count": 7,
   "metadata": {},
   "outputs": [
    {
     "data": {
      "text/plain": [
       "array([1., 0.])"
      ]
     },
     "execution_count": 7,
     "metadata": {},
     "output_type": "execute_result"
    }
   ],
   "source": [
    "data[\"is_4wd\"] = data[\"is_4wd\"].fillna(0)\n",
    "#Test the change\n",
    "data[\"is_4wd\"].unique()"
   ]
  },
  {
   "cell_type": "markdown",
   "metadata": {},
   "source": [
    "Moving to **cylinders**, we'll try to find a pattern of the missing values:"
   ]
  },
  {
   "cell_type": "code",
   "execution_count": 8,
   "metadata": {},
   "outputs": [
    {
     "data": {
      "text/plain": [
       "excellent    2599\n",
       "good         2011\n",
       "like new      476\n",
       "fair          152\n",
       "new            12\n",
       "salvage        10\n",
       "Name: condition, dtype: int64"
      ]
     },
     "execution_count": 8,
     "metadata": {},
     "output_type": "execute_result"
    }
   ],
   "source": [
    "data[data['cylinders'].isnull()]['condition'].value_counts()"
   ]
  },
  {
   "cell_type": "code",
   "execution_count": 9,
   "metadata": {},
   "outputs": [
    {
     "data": {
      "text/plain": [
       "excellent    24773\n",
       "good         20145\n",
       "like new      4742\n",
       "fair          1607\n",
       "new            143\n",
       "salvage        115\n",
       "Name: condition, dtype: int64"
      ]
     },
     "execution_count": 9,
     "metadata": {},
     "output_type": "execute_result"
    }
   ],
   "source": [
    "data['condition'].value_counts()"
   ]
  },
  {
   "cell_type": "code",
   "execution_count": 10,
   "metadata": {},
   "outputs": [
    {
     "data": {
      "text/plain": [
       "ford f-150                           316\n",
       "chevrolet silverado 1500             231\n",
       "ram 1500                             185\n",
       "chevrolet silverado                  137\n",
       "ram 2500                             122\n",
       "                                    ... \n",
       "ford f150 supercrew cab xlt           20\n",
       "ford f350 super duty                  20\n",
       "dodge dakota                          18\n",
       "bmw x5                                16\n",
       "mercedes-benz benze sprinter 2500      7\n",
       "Name: model, Length: 100, dtype: int64"
      ]
     },
     "execution_count": 10,
     "metadata": {},
     "output_type": "execute_result"
    }
   ],
   "source": [
    "data[data['cylinders'].isnull()]['model'].value_counts()"
   ]
  },
  {
   "cell_type": "code",
   "execution_count": 11,
   "metadata": {},
   "outputs": [
    {
     "data": {
      "text/plain": [
       "truck          1265\n",
       "sedan          1256\n",
       "SUV            1224\n",
       "pickup          714\n",
       "coupe           222\n",
       "wagon           164\n",
       "hatchback       130\n",
       "mini-van        127\n",
       "van              65\n",
       "convertible      36\n",
       "other            31\n",
       "offroad          22\n",
       "bus               4\n",
       "Name: type, dtype: int64"
      ]
     },
     "execution_count": 11,
     "metadata": {},
     "output_type": "execute_result"
    }
   ],
   "source": [
    "data[data['cylinders'].isnull()]['type'].value_counts()"
   ]
  },
  {
   "cell_type": "code",
   "execution_count": 12,
   "metadata": {},
   "outputs": [
    {
     "data": {
      "text/plain": [
       "automatic    4782\n",
       "manual        306\n",
       "other         172\n",
       "Name: transmission, dtype: int64"
      ]
     },
     "execution_count": 12,
     "metadata": {},
     "output_type": "execute_result"
    }
   ],
   "source": [
    "data[data['cylinders'].isnull()]['transmission'].value_counts()"
   ]
  },
  {
   "cell_type": "code",
   "execution_count": 13,
   "metadata": {},
   "outputs": [
    {
     "data": {
      "text/plain": [
       "automatic    46902\n",
       "manual        2829\n",
       "other         1794\n",
       "Name: transmission, dtype: int64"
      ]
     },
     "execution_count": 13,
     "metadata": {},
     "output_type": "execute_result"
    }
   ],
   "source": [
    "data['transmission'].value_counts()"
   ]
  },
  {
   "cell_type": "markdown",
   "metadata": {},
   "source": [
    "It doesn't seem like there is a pattern. We'll fill the missing cylinders values with the median of the same type of matching model:"
   ]
  },
  {
   "cell_type": "markdown",
   "metadata": {},
   "source": [
    "**I'll use the median because it will result in an actual number of possible cylinders, average could possibly result in a number like 7 cylinders which isn't actually exist. I assume that different types of the same model use different amount of cylinders.**"
   ]
  },
  {
   "cell_type": "code",
   "execution_count": 14,
   "metadata": {},
   "outputs": [
    {
     "name": "stderr",
     "output_type": "stream",
     "text": [
      "/opt/conda/lib/python3.7/site-packages/numpy/lib/nanfunctions.py:1111: RuntimeWarning: Mean of empty slice\n",
      "  return np.nanmean(a, axis, out=out, keepdims=keepdims)\n"
     ]
    },
    {
     "data": {
      "text/plain": [
       "15"
      ]
     },
     "execution_count": 14,
     "metadata": {},
     "output_type": "execute_result"
    }
   ],
   "source": [
    "data['cylinders'] = data.groupby(['model','type'])['cylinders'].apply(lambda x: x.fillna(x.median()))\n",
    "data['cylinders'].isnull().sum()"
   ]
  },
  {
   "cell_type": "markdown",
   "metadata": {},
   "source": [
    "There are 15 rows with unique combinations of model and type with NaN cylinders value. 15 rows are negligible amount of rows. We can drop those rows."
   ]
  },
  {
   "cell_type": "code",
   "execution_count": 15,
   "metadata": {},
   "outputs": [
    {
     "data": {
      "text/plain": [
       "0.0002911208151382824"
      ]
     },
     "execution_count": 15,
     "metadata": {},
     "output_type": "execute_result"
    }
   ],
   "source": [
    "data['cylinders'].isnull().sum() / len(data)"
   ]
  },
  {
   "cell_type": "markdown",
   "metadata": {},
   "source": [
    "**The percentage of soon to be dropped rows is negligible.**"
   ]
  },
  {
   "cell_type": "code",
   "execution_count": 16,
   "metadata": {},
   "outputs": [
    {
     "data": {
      "text/plain": [
       "0"
      ]
     },
     "execution_count": 16,
     "metadata": {},
     "output_type": "execute_result"
    }
   ],
   "source": [
    "data.dropna(subset=['cylinders'], inplace=True)\n",
    "data.reset_index(drop=True, inplace=True)\n",
    "data['cylinders'].isnull().sum()"
   ]
  },
  {
   "cell_type": "markdown",
   "metadata": {},
   "source": [
    "Moving to **paint_color** column. Let's look at the values ,trying to find a pattern for the missing values:"
   ]
  },
  {
   "cell_type": "code",
   "execution_count": 17,
   "metadata": {},
   "outputs": [
    {
     "data": {
      "text/plain": [
       "excellent    4423\n",
       "good         3648\n",
       "like new      860\n",
       "fair          295\n",
       "new            22\n",
       "salvage        18\n",
       "Name: condition, dtype: int64"
      ]
     },
     "execution_count": 17,
     "metadata": {},
     "output_type": "execute_result"
    }
   ],
   "source": [
    "data[data['paint_color'].isnull()]['condition'].value_counts()"
   ]
  },
  {
   "cell_type": "code",
   "execution_count": 18,
   "metadata": {},
   "outputs": [
    {
     "data": {
      "text/plain": [
       "ford f-150                           476\n",
       "chevrolet silverado 1500             390\n",
       "ram 1500                             334\n",
       "jeep wrangler                        235\n",
       "chevrolet silverado                  212\n",
       "                                    ... \n",
       "kia sorento                           37\n",
       "chrysler 200                          35\n",
       "chevrolet trailblazer                 35\n",
       "chevrolet silverado 3500hd            35\n",
       "mercedes-benz benze sprinter 2500      7\n",
       "Name: model, Length: 100, dtype: int64"
      ]
     },
     "execution_count": 18,
     "metadata": {},
     "output_type": "execute_result"
    }
   ],
   "source": [
    "data[data['paint_color'].isnull()]['model'].value_counts()"
   ]
  },
  {
   "cell_type": "code",
   "execution_count": 19,
   "metadata": {},
   "outputs": [
    {
     "data": {
      "text/plain": [
       "SUV            2236\n",
       "sedan          2189\n",
       "truck          2135\n",
       "pickup         1326\n",
       "coupe           406\n",
       "wagon           268\n",
       "hatchback       213\n",
       "mini-van        202\n",
       "van             130\n",
       "convertible      75\n",
       "other            45\n",
       "offroad          36\n",
       "bus               5\n",
       "Name: type, dtype: int64"
      ]
     },
     "execution_count": 19,
     "metadata": {},
     "output_type": "execute_result"
    }
   ],
   "source": [
    "data[data['paint_color'].isnull()]['type'].value_counts()"
   ]
  },
  {
   "cell_type": "code",
   "execution_count": 20,
   "metadata": {},
   "outputs": [
    {
     "data": {
      "text/plain": [
       "automatic    8402\n",
       "manual        514\n",
       "other         350\n",
       "Name: transmission, dtype: int64"
      ]
     },
     "execution_count": 20,
     "metadata": {},
     "output_type": "execute_result"
    }
   ],
   "source": [
    "data[data['paint_color'].isnull()]['transmission'].value_counts()"
   ]
  },
  {
   "cell_type": "markdown",
   "metadata": {},
   "source": [
    "Looks like the color is just a preference of the customers. We don't have related data to check for a pattern. I'll fill it with \"other\". I won't use the \"other\" color in the analysis in the next steps."
   ]
  },
  {
   "cell_type": "code",
   "execution_count": 21,
   "metadata": {},
   "outputs": [
    {
     "data": {
      "text/plain": [
       "0"
      ]
     },
     "execution_count": 21,
     "metadata": {},
     "output_type": "execute_result"
    }
   ],
   "source": [
    "data['paint_color'] = data['paint_color'].fillna(value='other')\n",
    "data['paint_color'].isnull().sum()"
   ]
  },
  {
   "cell_type": "markdown",
   "metadata": {},
   "source": [
    "Moving to **odometer** column. Let's look at the values ,trying to find a pattern for the missing values:"
   ]
  },
  {
   "cell_type": "code",
   "execution_count": 22,
   "metadata": {},
   "outputs": [
    {
     "data": {
      "text/plain": [
       "excellent    3799\n",
       "good         3092\n",
       "like new      728\n",
       "fair          236\n",
       "new            18\n",
       "salvage        17\n",
       "Name: condition, dtype: int64"
      ]
     },
     "execution_count": 22,
     "metadata": {},
     "output_type": "execute_result"
    }
   ],
   "source": [
    "data[data['odometer'].isnull()]['condition'].value_counts()"
   ]
  },
  {
   "cell_type": "code",
   "execution_count": 23,
   "metadata": {},
   "outputs": [
    {
     "data": {
      "text/plain": [
       "ford f-150                  419\n",
       "chevrolet silverado 1500    322\n",
       "ram 1500                    279\n",
       "chevrolet silverado         192\n",
       "ram 2500                    181\n",
       "                           ... \n",
       "jeep cherokee                34\n",
       "ford f350                    33\n",
       "nissan murano                32\n",
       "ford f350 super duty         29\n",
       "dodge dakota                 26\n",
       "Name: model, Length: 100, dtype: int64"
      ]
     },
     "execution_count": 23,
     "metadata": {},
     "output_type": "execute_result"
    }
   ],
   "source": [
    "data[data['odometer'].isnull()]['model'].value_counts()"
   ]
  },
  {
   "cell_type": "code",
   "execution_count": 24,
   "metadata": {},
   "outputs": [
    {
     "data": {
      "text/plain": [
       "sedan          1901\n",
       "SUV            1894\n",
       "truck          1859\n",
       "pickup         1092\n",
       "coupe           339\n",
       "wagon           234\n",
       "mini-van        166\n",
       "hatchback       139\n",
       "van             138\n",
       "convertible      67\n",
       "other            33\n",
       "offroad          27\n",
       "bus               1\n",
       "Name: type, dtype: int64"
      ]
     },
     "execution_count": 24,
     "metadata": {},
     "output_type": "execute_result"
    }
   ],
   "source": [
    "data[data['odometer'].isnull()]['type'].value_counts()"
   ]
  },
  {
   "cell_type": "code",
   "execution_count": 25,
   "metadata": {},
   "outputs": [
    {
     "data": {
      "text/plain": [
       "automatic    7184\n",
       "manual        426\n",
       "other         280\n",
       "Name: transmission, dtype: int64"
      ]
     },
     "execution_count": 25,
     "metadata": {},
     "output_type": "execute_result"
    }
   ],
   "source": [
    "data[data['odometer'].isnull()]['transmission'].value_counts()"
   ]
  },
  {
   "cell_type": "markdown",
   "metadata": {},
   "source": [
    "I can't find a pattern, but I know that every used car should have a value in the odometer column, except brand new cards, that should very low value or 0. I'll fill the missing values for the new cards with 0, and with the median value for cars of the same model and type. "
   ]
  },
  {
   "cell_type": "code",
   "execution_count": 26,
   "metadata": {},
   "outputs": [
    {
     "data": {
      "text/plain": [
       "54"
      ]
     },
     "execution_count": 26,
     "metadata": {},
     "output_type": "execute_result"
    }
   ],
   "source": [
    "def fill_nan_new(row):\n",
    "    if row['condition'] == 'new' and pd.isnull(row['odometer']):\n",
    "        row['odometer'] = 0\n",
    "    return row\n",
    "data = data.apply(fill_nan_new, axis=1)\n",
    "data['odometer'] = data.groupby(['model','type'])['odometer'].apply(lambda x: x.fillna(x.median()))\n",
    "data['odometer'].isnull().sum()"
   ]
  },
  {
   "cell_type": "markdown",
   "metadata": {},
   "source": [
    "54 rows left to check:"
   ]
  },
  {
   "cell_type": "code",
   "execution_count": 27,
   "metadata": {},
   "outputs": [
    {
     "data": {
      "text/html": [
       "<div>\n",
       "<style scoped>\n",
       "    .dataframe tbody tr th:only-of-type {\n",
       "        vertical-align: middle;\n",
       "    }\n",
       "\n",
       "    .dataframe tbody tr th {\n",
       "        vertical-align: top;\n",
       "    }\n",
       "\n",
       "    .dataframe thead th {\n",
       "        text-align: right;\n",
       "    }\n",
       "</style>\n",
       "<table border=\"1\" class=\"dataframe\">\n",
       "  <thead>\n",
       "    <tr style=\"text-align: right;\">\n",
       "      <th></th>\n",
       "      <th>price</th>\n",
       "      <th>model_year</th>\n",
       "      <th>model</th>\n",
       "      <th>condition</th>\n",
       "      <th>cylinders</th>\n",
       "      <th>fuel</th>\n",
       "      <th>odometer</th>\n",
       "      <th>transmission</th>\n",
       "      <th>type</th>\n",
       "      <th>paint_color</th>\n",
       "      <th>is_4wd</th>\n",
       "      <th>date_posted</th>\n",
       "      <th>days_listed</th>\n",
       "    </tr>\n",
       "  </thead>\n",
       "  <tbody>\n",
       "    <tr>\n",
       "      <td>42</td>\n",
       "      <td>34900</td>\n",
       "      <td>2013.0</td>\n",
       "      <td>mercedes-benz benze sprinter 2500</td>\n",
       "      <td>excellent</td>\n",
       "      <td>6.0</td>\n",
       "      <td>diesel</td>\n",
       "      <td>NaN</td>\n",
       "      <td>automatic</td>\n",
       "      <td>van</td>\n",
       "      <td>black</td>\n",
       "      <td>0.0</td>\n",
       "      <td>2019-01-15</td>\n",
       "      <td>16</td>\n",
       "    </tr>\n",
       "    <tr>\n",
       "      <td>1642</td>\n",
       "      <td>34900</td>\n",
       "      <td>2013.0</td>\n",
       "      <td>mercedes-benz benze sprinter 2500</td>\n",
       "      <td>excellent</td>\n",
       "      <td>6.0</td>\n",
       "      <td>diesel</td>\n",
       "      <td>NaN</td>\n",
       "      <td>automatic</td>\n",
       "      <td>van</td>\n",
       "      <td>black</td>\n",
       "      <td>0.0</td>\n",
       "      <td>2018-12-04</td>\n",
       "      <td>36</td>\n",
       "    </tr>\n",
       "    <tr>\n",
       "      <td>2232</td>\n",
       "      <td>34900</td>\n",
       "      <td>2013.0</td>\n",
       "      <td>mercedes-benz benze sprinter 2500</td>\n",
       "      <td>excellent</td>\n",
       "      <td>6.0</td>\n",
       "      <td>diesel</td>\n",
       "      <td>NaN</td>\n",
       "      <td>automatic</td>\n",
       "      <td>van</td>\n",
       "      <td>black</td>\n",
       "      <td>0.0</td>\n",
       "      <td>2018-08-23</td>\n",
       "      <td>70</td>\n",
       "    </tr>\n",
       "    <tr>\n",
       "      <td>2731</td>\n",
       "      <td>34900</td>\n",
       "      <td>2013.0</td>\n",
       "      <td>mercedes-benz benze sprinter 2500</td>\n",
       "      <td>excellent</td>\n",
       "      <td>6.0</td>\n",
       "      <td>diesel</td>\n",
       "      <td>NaN</td>\n",
       "      <td>automatic</td>\n",
       "      <td>van</td>\n",
       "      <td>black</td>\n",
       "      <td>0.0</td>\n",
       "      <td>2019-04-12</td>\n",
       "      <td>31</td>\n",
       "    </tr>\n",
       "    <tr>\n",
       "      <td>4149</td>\n",
       "      <td>34900</td>\n",
       "      <td>NaN</td>\n",
       "      <td>mercedes-benz benze sprinter 2500</td>\n",
       "      <td>excellent</td>\n",
       "      <td>6.0</td>\n",
       "      <td>diesel</td>\n",
       "      <td>NaN</td>\n",
       "      <td>automatic</td>\n",
       "      <td>van</td>\n",
       "      <td>black</td>\n",
       "      <td>0.0</td>\n",
       "      <td>2018-10-12</td>\n",
       "      <td>28</td>\n",
       "    </tr>\n",
       "  </tbody>\n",
       "</table>\n",
       "</div>"
      ],
      "text/plain": [
       "      price  model_year                              model  condition  \\\n",
       "42    34900      2013.0  mercedes-benz benze sprinter 2500  excellent   \n",
       "1642  34900      2013.0  mercedes-benz benze sprinter 2500  excellent   \n",
       "2232  34900      2013.0  mercedes-benz benze sprinter 2500  excellent   \n",
       "2731  34900      2013.0  mercedes-benz benze sprinter 2500  excellent   \n",
       "4149  34900         NaN  mercedes-benz benze sprinter 2500  excellent   \n",
       "\n",
       "      cylinders    fuel  odometer transmission type paint_color  is_4wd  \\\n",
       "42          6.0  diesel       NaN    automatic  van       black     0.0   \n",
       "1642        6.0  diesel       NaN    automatic  van       black     0.0   \n",
       "2232        6.0  diesel       NaN    automatic  van       black     0.0   \n",
       "2731        6.0  diesel       NaN    automatic  van       black     0.0   \n",
       "4149        6.0  diesel       NaN    automatic  van       black     0.0   \n",
       "\n",
       "     date_posted  days_listed  \n",
       "42    2019-01-15           16  \n",
       "1642  2018-12-04           36  \n",
       "2232  2018-08-23           70  \n",
       "2731  2019-04-12           31  \n",
       "4149  2018-10-12           28  "
      ]
     },
     "execution_count": 27,
     "metadata": {},
     "output_type": "execute_result"
    }
   ],
   "source": [
    "data[data[\"odometer\"].isnull()].head()"
   ]
  },
  {
   "cell_type": "code",
   "execution_count": 28,
   "metadata": {},
   "outputs": [
    {
     "data": {
      "text/plain": [
       "41"
      ]
     },
     "execution_count": 28,
     "metadata": {},
     "output_type": "execute_result"
    }
   ],
   "source": [
    "data.query('model ==\"mercedes-benz benze sprinter 2500\"').shape[0]"
   ]
  },
  {
   "cell_type": "markdown",
   "metadata": {},
   "source": [
    "Seems like the \"mercedes-benz benze sprinter 2500\" model doesn't have any information, and 13 rows without matching model and type. Considering the total amount of rows, 54 rows are negligible for our analysis. I'll drop those rows:  "
   ]
  },
  {
   "cell_type": "code",
   "execution_count": 29,
   "metadata": {},
   "outputs": [
    {
     "data": {
      "text/plain": [
       "0"
      ]
     },
     "execution_count": 29,
     "metadata": {},
     "output_type": "execute_result"
    }
   ],
   "source": [
    "data.dropna(subset=['odometer'], inplace=True)\n",
    "data.reset_index(drop=True, inplace=True)\n",
    "data['odometer'].isnull().sum()"
   ]
  },
  {
   "cell_type": "markdown",
   "metadata": {},
   "source": [
    "**model_year** column now. Let's look at the values ,trying to find a pattern for the missing values:"
   ]
  },
  {
   "cell_type": "code",
   "execution_count": 30,
   "metadata": {},
   "outputs": [
    {
     "data": {
      "text/plain": [
       "excellent    1692\n",
       "good         1450\n",
       "like new      332\n",
       "fair          115\n",
       "salvage        12\n",
       "new            10\n",
       "Name: condition, dtype: int64"
      ]
     },
     "execution_count": 30,
     "metadata": {},
     "output_type": "execute_result"
    }
   ],
   "source": [
    "data[data['model_year'].isnull()]['condition'].value_counts()"
   ]
  },
  {
   "cell_type": "code",
   "execution_count": 31,
   "metadata": {},
   "outputs": [
    {
     "data": {
      "text/plain": [
       "ford f-150                    191\n",
       "chevrolet silverado 1500      155\n",
       "ram 1500                      117\n",
       "chevrolet silverado            98\n",
       "ram 2500                       80\n",
       "                             ... \n",
       "buick enclave                  14\n",
       "chevrolet silverado 3500hd     14\n",
       "hyundai santa fe               13\n",
       "acura tl                       12\n",
       "honda civic lx                 11\n",
       "Name: model, Length: 99, dtype: int64"
      ]
     },
     "execution_count": 31,
     "metadata": {},
     "output_type": "execute_result"
    }
   ],
   "source": [
    "data[data['model_year'].isnull()]['model'].value_counts()"
   ]
  },
  {
   "cell_type": "code",
   "execution_count": 32,
   "metadata": {},
   "outputs": [
    {
     "data": {
      "text/plain": [
       "SUV            919\n",
       "sedan          848\n",
       "truck          836\n",
       "pickup         503\n",
       "coupe          145\n",
       "wagon          110\n",
       "mini-van        86\n",
       "hatchback       73\n",
       "van             32\n",
       "convertible     27\n",
       "other           22\n",
       "offroad         10\n",
       "Name: type, dtype: int64"
      ]
     },
     "execution_count": 32,
     "metadata": {},
     "output_type": "execute_result"
    }
   ],
   "source": [
    "data[data['model_year'].isnull()]['type'].value_counts()"
   ]
  },
  {
   "cell_type": "code",
   "execution_count": 33,
   "metadata": {},
   "outputs": [
    {
     "data": {
      "text/plain": [
       "automatic    3302\n",
       "manual        187\n",
       "other         122\n",
       "Name: transmission, dtype: int64"
      ]
     },
     "execution_count": 33,
     "metadata": {},
     "output_type": "execute_result"
    }
   ],
   "source": [
    "data[data['model_year'].isnull()]['transmission'].value_counts()"
   ]
  },
  {
   "cell_type": "markdown",
   "metadata": {},
   "source": [
    "There's no pattern. I'll fill with the median of the same model and type:"
   ]
  },
  {
   "cell_type": "markdown",
   "metadata": {},
   "source": [
    "**I'll use the median because it will result in an actual year a vehicle from the same model type were manufactured. Not every vehicle model gets a new release every year. Using a mean could result in a year that the same model and type wasn't necessarily released.**"
   ]
  },
  {
   "cell_type": "code",
   "execution_count": 34,
   "metadata": {},
   "outputs": [
    {
     "data": {
      "text/plain": [
       "9"
      ]
     },
     "execution_count": 34,
     "metadata": {},
     "output_type": "execute_result"
    }
   ],
   "source": [
    "data['model_year'] = data.groupby(['model','type'])['model_year'].apply(lambda x: x.fillna(x.median()))\n",
    "data['model_year'].isnull().sum()"
   ]
  },
  {
   "cell_type": "markdown",
   "metadata": {},
   "source": [
    "There are 9 rows with unique combinations of model and type with NaN model_year value. 9 rows are negligible amount of rows. We can drop those rows."
   ]
  },
  {
   "cell_type": "code",
   "execution_count": 35,
   "metadata": {},
   "outputs": [
    {
     "data": {
      "text/plain": [
       "0"
      ]
     },
     "execution_count": 35,
     "metadata": {},
     "output_type": "execute_result"
    }
   ],
   "source": [
    "data.dropna(subset=['model_year'], inplace=True)\n",
    "data.reset_index(drop=True, inplace=True)\n",
    "data['model_year'].isnull().sum()"
   ]
  },
  {
   "cell_type": "markdown",
   "metadata": {},
   "source": [
    "**Possible reasons for the missing values in our dataset could be human error while filling the data to the system. Another option could be that specific field was unknown to the person listing the ad, not every person knows the amount of cylinders or the model year of his vehicle.**"
   ]
  },
  {
   "cell_type": "markdown",
   "metadata": {},
   "source": [
    "**I'll change the data types to more suitable ones**, let's start with date_posted:"
   ]
  },
  {
   "cell_type": "code",
   "execution_count": 36,
   "metadata": {},
   "outputs": [],
   "source": [
    "data[\"date_posted\"] = pd.to_datetime(data[\"date_posted\"], format = \"%Y-%m-%d\")"
   ]
  },
  {
   "cell_type": "markdown",
   "metadata": {},
   "source": [
    "Changing the float type columns to int (except price):"
   ]
  },
  {
   "cell_type": "code",
   "execution_count": 37,
   "metadata": {},
   "outputs": [
    {
     "name": "stdout",
     "output_type": "stream",
     "text": [
      "<class 'pandas.core.frame.DataFrame'>\n",
      "RangeIndex: 51447 entries, 0 to 51446\n",
      "Data columns (total 13 columns):\n",
      "price           51447 non-null int64\n",
      "model_year      51447 non-null int64\n",
      "model           51447 non-null object\n",
      "condition       51447 non-null object\n",
      "cylinders       51447 non-null int64\n",
      "fuel            51447 non-null object\n",
      "odometer        51447 non-null int64\n",
      "transmission    51447 non-null object\n",
      "type            51447 non-null object\n",
      "paint_color     51447 non-null object\n",
      "is_4wd          51447 non-null int64\n",
      "date_posted     51447 non-null datetime64[ns]\n",
      "days_listed     51447 non-null int64\n",
      "dtypes: datetime64[ns](1), int64(6), object(6)\n",
      "memory usage: 5.1+ MB\n"
     ]
    }
   ],
   "source": [
    "for column in ['odometer', 'cylinders', 'model_year', 'is_4wd']:\n",
    "    data[column] = data[column].astype('int64')\n",
    "data.info()"
   ]
  },
  {
   "cell_type": "markdown",
   "metadata": {},
   "source": [
    "Let's check for **duplicates**"
   ]
  },
  {
   "cell_type": "code",
   "execution_count": 38,
   "metadata": {},
   "outputs": [
    {
     "data": {
      "text/plain": [
       "0"
      ]
     },
     "execution_count": 38,
     "metadata": {},
     "output_type": "execute_result"
    }
   ],
   "source": [
    "data.duplicated().sum()"
   ]
  },
  {
   "cell_type": "code",
   "execution_count": 39,
   "metadata": {},
   "outputs": [
    {
     "data": {
      "text/plain": [
       "array(['bmw x5', 'ford f-150', 'hyundai sonata', 'chrysler 200',\n",
       "       'chrysler 300', 'toyota camry', 'honda pilot', 'kia sorento',\n",
       "       'chevrolet silverado 1500', 'honda accord', 'ram 1500',\n",
       "       'gmc yukon', 'jeep cherokee', 'chevrolet traverse',\n",
       "       'hyundai elantra', 'chevrolet tahoe', 'toyota rav4',\n",
       "       'chevrolet silverado', 'jeep wrangler', 'chevrolet malibu',\n",
       "       'ford fusion se', 'chevrolet impala', 'chevrolet corvette',\n",
       "       'jeep liberty', 'toyota camry le', 'nissan altima',\n",
       "       'subaru outback', 'toyota highlander', 'dodge charger',\n",
       "       'toyota tacoma', 'chevrolet equinox', 'nissan rogue', 'honda cr-v',\n",
       "       'jeep grand cherokee', 'toyota 4runner', 'ford focus',\n",
       "       'honda civic', 'kia soul', 'chevrolet colorado',\n",
       "       'ford f150 supercrew cab xlt', 'chevrolet camaro lt coupe 2d',\n",
       "       'chevrolet cruze', 'ford mustang', 'chevrolet silverado 3500hd',\n",
       "       'nissan frontier crew cab sv', 'subaru impreza',\n",
       "       'jeep grand cherokee laredo', 'nissan versa', 'ford f-250 sd',\n",
       "       'chevrolet silverado 1500 crew', 'ford f250 super duty',\n",
       "       'chevrolet camaro', 'ford mustang gt coupe 2d', 'subaru forester',\n",
       "       'ford explorer', 'ford f-350 sd', 'ford edge', 'nissan maxima',\n",
       "       'ford f-250', 'nissan sentra', 'ford f150', 'chevrolet suburban',\n",
       "       'ford expedition', 'dodge grand caravan', 'ford taurus',\n",
       "       'acura tl', 'ford f350 super duty', 'ford ranger', 'gmc sierra',\n",
       "       'hyundai santa fe', 'ford escape', 'gmc sierra 2500hd',\n",
       "       'honda civic lx', 'gmc sierra 1500', 'honda odyssey',\n",
       "       'cadillac escalade', 'volkswagen jetta', 'toyota corolla',\n",
       "       'chrysler town & country', 'volkswagen passat', 'toyota prius',\n",
       "       'buick enclave', 'ford fusion', 'toyota tundra', 'ram 3500',\n",
       "       'ram 2500', 'nissan frontier', 'chevrolet silverado 2500hd',\n",
       "       'jeep wrangler unlimited', 'ford f-250 super duty', 'gmc acadia',\n",
       "       'toyota sienna', 'ford focus se', 'ford f250', 'dodge dakota',\n",
       "       'ford f350', 'chevrolet trailblazer', 'ford econoline',\n",
       "       'nissan murano'], dtype=object)"
      ]
     },
     "execution_count": 39,
     "metadata": {},
     "output_type": "execute_result"
    }
   ],
   "source": [
    "data['model'].unique()"
   ]
  },
  {
   "cell_type": "code",
   "execution_count": 40,
   "metadata": {},
   "outputs": [
    {
     "data": {
      "text/plain": [
       "array(['good', 'like new', 'fair', 'excellent', 'salvage', 'new'],\n",
       "      dtype=object)"
      ]
     },
     "execution_count": 40,
     "metadata": {},
     "output_type": "execute_result"
    }
   ],
   "source": [
    "data['condition'].unique()"
   ]
  },
  {
   "cell_type": "code",
   "execution_count": 41,
   "metadata": {},
   "outputs": [
    {
     "data": {
      "text/plain": [
       "array(['gas', 'diesel', 'other', 'hybrid', 'electric'], dtype=object)"
      ]
     },
     "execution_count": 41,
     "metadata": {},
     "output_type": "execute_result"
    }
   ],
   "source": [
    "data['fuel'].unique()"
   ]
  },
  {
   "cell_type": "code",
   "execution_count": 42,
   "metadata": {},
   "outputs": [
    {
     "data": {
      "text/plain": [
       "array(['automatic', 'manual', 'other'], dtype=object)"
      ]
     },
     "execution_count": 42,
     "metadata": {},
     "output_type": "execute_result"
    }
   ],
   "source": [
    "data['transmission'].unique()"
   ]
  },
  {
   "cell_type": "code",
   "execution_count": 43,
   "metadata": {},
   "outputs": [
    {
     "data": {
      "text/plain": [
       "array(['SUV', 'pickup', 'sedan', 'truck', 'coupe', 'convertible',\n",
       "       'hatchback', 'van', 'wagon', 'mini-van', 'other', 'offroad', 'bus'],\n",
       "      dtype=object)"
      ]
     },
     "execution_count": 43,
     "metadata": {},
     "output_type": "execute_result"
    }
   ],
   "source": [
    "data['type'].unique()"
   ]
  },
  {
   "cell_type": "code",
   "execution_count": 44,
   "metadata": {},
   "outputs": [
    {
     "data": {
      "text/plain": [
       "array(['other', 'white', 'red', 'black', 'blue', 'grey', 'silver',\n",
       "       'custom', 'orange', 'yellow', 'brown', 'green', 'purple'],\n",
       "      dtype=object)"
      ]
     },
     "execution_count": 44,
     "metadata": {},
     "output_type": "execute_result"
    }
   ],
   "source": [
    "data['paint_color'].unique()"
   ]
  },
  {
   "cell_type": "code",
   "execution_count": 45,
   "metadata": {},
   "outputs": [
    {
     "name": "stdout",
     "output_type": "stream",
     "text": [
      "<class 'pandas.core.frame.DataFrame'>\n",
      "RangeIndex: 51447 entries, 0 to 51446\n",
      "Data columns (total 13 columns):\n",
      "price           51447 non-null int64\n",
      "model_year      51447 non-null int64\n",
      "model           51447 non-null object\n",
      "condition       51447 non-null object\n",
      "cylinders       51447 non-null int64\n",
      "fuel            51447 non-null object\n",
      "odometer        51447 non-null int64\n",
      "transmission    51447 non-null object\n",
      "type            51447 non-null object\n",
      "paint_color     51447 non-null object\n",
      "is_4wd          51447 non-null int64\n",
      "date_posted     51447 non-null datetime64[ns]\n",
      "days_listed     51447 non-null int64\n",
      "dtypes: datetime64[ns](1), int64(6), object(6)\n",
      "memory usage: 5.1+ MB\n"
     ]
    }
   ],
   "source": [
    "data.info()"
   ]
  },
  {
   "cell_type": "markdown",
   "metadata": {},
   "source": [
    "There are no duplicates. We can move to the next step."
   ]
  },
  {
   "cell_type": "markdown",
   "metadata": {},
   "source": [
    "**We fixed the issues with the dataset: Filled missing values, changed data types to more suitable ones, and made sure there are no duplicates in the dataset. Now we can move on to the next stage.**"
   ]
  },
  {
   "cell_type": "markdown",
   "metadata": {},
   "source": [
    "## Make calculations and add them to the table"
   ]
  },
  {
   "cell_type": "markdown",
   "metadata": {},
   "source": [
    "I'll add 5 new columns: \n",
    "1. Day of the week ad was placed ['day']\n",
    "2. Month ad was placed ['month']\n",
    "3. Year ad was placed ['year']\n",
    "4. The vehicle's age (in years) when the ad was placed ['age'] - can't be a zero. We'll assume that car posted on the same\n",
    "year as the model year is 1 year old.\n",
    "5. The vehicle's average mileage per year ['mileage_year']\n",
    "\n",
    "I'll replace condition column values to be number based: salvage - 0 , fair - 1 , good - 2, excellent - 3, like new - 4, new - 5"
   ]
  },
  {
   "cell_type": "code",
   "execution_count": 46,
   "metadata": {},
   "outputs": [
    {
     "data": {
      "text/html": [
       "<div>\n",
       "<style scoped>\n",
       "    .dataframe tbody tr th:only-of-type {\n",
       "        vertical-align: middle;\n",
       "    }\n",
       "\n",
       "    .dataframe tbody tr th {\n",
       "        vertical-align: top;\n",
       "    }\n",
       "\n",
       "    .dataframe thead th {\n",
       "        text-align: right;\n",
       "    }\n",
       "</style>\n",
       "<table border=\"1\" class=\"dataframe\">\n",
       "  <thead>\n",
       "    <tr style=\"text-align: right;\">\n",
       "      <th></th>\n",
       "      <th>price</th>\n",
       "      <th>model_year</th>\n",
       "      <th>model</th>\n",
       "      <th>condition</th>\n",
       "      <th>cylinders</th>\n",
       "      <th>fuel</th>\n",
       "      <th>odometer</th>\n",
       "      <th>transmission</th>\n",
       "      <th>type</th>\n",
       "      <th>paint_color</th>\n",
       "      <th>is_4wd</th>\n",
       "      <th>date_posted</th>\n",
       "      <th>days_listed</th>\n",
       "      <th>day</th>\n",
       "      <th>month</th>\n",
       "      <th>year</th>\n",
       "      <th>age</th>\n",
       "      <th>mileage_year</th>\n",
       "    </tr>\n",
       "  </thead>\n",
       "  <tbody>\n",
       "    <tr>\n",
       "      <td>0</td>\n",
       "      <td>9400</td>\n",
       "      <td>2011</td>\n",
       "      <td>bmw x5</td>\n",
       "      <td>2</td>\n",
       "      <td>6</td>\n",
       "      <td>gas</td>\n",
       "      <td>145000</td>\n",
       "      <td>automatic</td>\n",
       "      <td>SUV</td>\n",
       "      <td>other</td>\n",
       "      <td>1</td>\n",
       "      <td>2018-06-23</td>\n",
       "      <td>19</td>\n",
       "      <td>5</td>\n",
       "      <td>6</td>\n",
       "      <td>2018</td>\n",
       "      <td>8</td>\n",
       "      <td>18125.000000</td>\n",
       "    </tr>\n",
       "    <tr>\n",
       "      <td>1</td>\n",
       "      <td>25500</td>\n",
       "      <td>2010</td>\n",
       "      <td>ford f-150</td>\n",
       "      <td>2</td>\n",
       "      <td>6</td>\n",
       "      <td>gas</td>\n",
       "      <td>88705</td>\n",
       "      <td>automatic</td>\n",
       "      <td>pickup</td>\n",
       "      <td>white</td>\n",
       "      <td>1</td>\n",
       "      <td>2018-10-19</td>\n",
       "      <td>50</td>\n",
       "      <td>4</td>\n",
       "      <td>10</td>\n",
       "      <td>2018</td>\n",
       "      <td>9</td>\n",
       "      <td>9856.111111</td>\n",
       "    </tr>\n",
       "    <tr>\n",
       "      <td>2</td>\n",
       "      <td>5500</td>\n",
       "      <td>2013</td>\n",
       "      <td>hyundai sonata</td>\n",
       "      <td>4</td>\n",
       "      <td>4</td>\n",
       "      <td>gas</td>\n",
       "      <td>110000</td>\n",
       "      <td>automatic</td>\n",
       "      <td>sedan</td>\n",
       "      <td>red</td>\n",
       "      <td>0</td>\n",
       "      <td>2019-02-07</td>\n",
       "      <td>79</td>\n",
       "      <td>3</td>\n",
       "      <td>2</td>\n",
       "      <td>2019</td>\n",
       "      <td>7</td>\n",
       "      <td>15714.285714</td>\n",
       "    </tr>\n",
       "    <tr>\n",
       "      <td>3</td>\n",
       "      <td>1500</td>\n",
       "      <td>2003</td>\n",
       "      <td>ford f-150</td>\n",
       "      <td>1</td>\n",
       "      <td>8</td>\n",
       "      <td>gas</td>\n",
       "      <td>124476</td>\n",
       "      <td>automatic</td>\n",
       "      <td>pickup</td>\n",
       "      <td>other</td>\n",
       "      <td>0</td>\n",
       "      <td>2019-03-22</td>\n",
       "      <td>9</td>\n",
       "      <td>4</td>\n",
       "      <td>3</td>\n",
       "      <td>2019</td>\n",
       "      <td>17</td>\n",
       "      <td>7322.117647</td>\n",
       "    </tr>\n",
       "    <tr>\n",
       "      <td>4</td>\n",
       "      <td>14900</td>\n",
       "      <td>2017</td>\n",
       "      <td>chrysler 200</td>\n",
       "      <td>3</td>\n",
       "      <td>4</td>\n",
       "      <td>gas</td>\n",
       "      <td>80903</td>\n",
       "      <td>automatic</td>\n",
       "      <td>sedan</td>\n",
       "      <td>black</td>\n",
       "      <td>0</td>\n",
       "      <td>2019-04-02</td>\n",
       "      <td>28</td>\n",
       "      <td>1</td>\n",
       "      <td>4</td>\n",
       "      <td>2019</td>\n",
       "      <td>3</td>\n",
       "      <td>26967.666667</td>\n",
       "    </tr>\n",
       "  </tbody>\n",
       "</table>\n",
       "</div>"
      ],
      "text/plain": [
       "   price  model_year           model  condition  cylinders fuel  odometer  \\\n",
       "0   9400        2011          bmw x5          2          6  gas    145000   \n",
       "1  25500        2010      ford f-150          2          6  gas     88705   \n",
       "2   5500        2013  hyundai sonata          4          4  gas    110000   \n",
       "3   1500        2003      ford f-150          1          8  gas    124476   \n",
       "4  14900        2017    chrysler 200          3          4  gas     80903   \n",
       "\n",
       "  transmission    type paint_color  is_4wd date_posted  days_listed  day  \\\n",
       "0    automatic     SUV       other       1  2018-06-23           19    5   \n",
       "1    automatic  pickup       white       1  2018-10-19           50    4   \n",
       "2    automatic   sedan         red       0  2019-02-07           79    3   \n",
       "3    automatic  pickup       other       0  2019-03-22            9    4   \n",
       "4    automatic   sedan       black       0  2019-04-02           28    1   \n",
       "\n",
       "   month  year  age  mileage_year  \n",
       "0      6  2018    8  18125.000000  \n",
       "1     10  2018    9   9856.111111  \n",
       "2      2  2019    7  15714.285714  \n",
       "3      3  2019   17   7322.117647  \n",
       "4      4  2019    3  26967.666667  "
      ]
     },
     "execution_count": 46,
     "metadata": {},
     "output_type": "execute_result"
    }
   ],
   "source": [
    "data['day'] = data['date_posted'].dt.dayofweek\n",
    "data['month'] = data['date_posted'].dt.month\n",
    "data['year']= data['date_posted'].dt.year\n",
    "data['age'] = (data['year'] - data['model_year']) + 1\n",
    "data['mileage_year'] = data['odometer'] / data['age']\n",
    "data['condition'] = data['condition'].replace(['new', 'like new', 'excellent', 'good', 'fair', 'salvage'], [5, 4, 3, 2, 1, 0])\n",
    "data.head()"
   ]
  },
  {
   "cell_type": "code",
   "execution_count": 47,
   "metadata": {},
   "outputs": [
    {
     "name": "stdout",
     "output_type": "stream",
     "text": [
      "<class 'pandas.core.frame.DataFrame'>\n",
      "RangeIndex: 51447 entries, 0 to 51446\n",
      "Data columns (total 18 columns):\n",
      "price           51447 non-null int64\n",
      "model_year      51447 non-null int64\n",
      "model           51447 non-null object\n",
      "condition       51447 non-null int64\n",
      "cylinders       51447 non-null int64\n",
      "fuel            51447 non-null object\n",
      "odometer        51447 non-null int64\n",
      "transmission    51447 non-null object\n",
      "type            51447 non-null object\n",
      "paint_color     51447 non-null object\n",
      "is_4wd          51447 non-null int64\n",
      "date_posted     51447 non-null datetime64[ns]\n",
      "days_listed     51447 non-null int64\n",
      "day             51447 non-null int64\n",
      "month           51447 non-null int64\n",
      "year            51447 non-null int64\n",
      "age             51447 non-null int64\n",
      "mileage_year    51447 non-null float64\n",
      "dtypes: datetime64[ns](1), float64(1), int64(11), object(5)\n",
      "memory usage: 7.1+ MB\n"
     ]
    }
   ],
   "source": [
    "data.info()"
   ]
  },
  {
   "cell_type": "code",
   "execution_count": 48,
   "metadata": {
    "scrolled": true
   },
   "outputs": [
    {
     "data": {
      "text/html": [
       "<div>\n",
       "<style scoped>\n",
       "    .dataframe tbody tr th:only-of-type {\n",
       "        vertical-align: middle;\n",
       "    }\n",
       "\n",
       "    .dataframe tbody tr th {\n",
       "        vertical-align: top;\n",
       "    }\n",
       "\n",
       "    .dataframe thead th {\n",
       "        text-align: right;\n",
       "    }\n",
       "</style>\n",
       "<table border=\"1\" class=\"dataframe\">\n",
       "  <thead>\n",
       "    <tr style=\"text-align: right;\">\n",
       "      <th></th>\n",
       "      <th>price</th>\n",
       "      <th>model_year</th>\n",
       "      <th>condition</th>\n",
       "      <th>cylinders</th>\n",
       "      <th>odometer</th>\n",
       "      <th>is_4wd</th>\n",
       "      <th>days_listed</th>\n",
       "      <th>day</th>\n",
       "      <th>month</th>\n",
       "      <th>year</th>\n",
       "      <th>age</th>\n",
       "      <th>mileage_year</th>\n",
       "    </tr>\n",
       "  </thead>\n",
       "  <tbody>\n",
       "    <tr>\n",
       "      <td>count</td>\n",
       "      <td>51447.000000</td>\n",
       "      <td>51447.000000</td>\n",
       "      <td>51447.000000</td>\n",
       "      <td>51447.000000</td>\n",
       "      <td>51447.000000</td>\n",
       "      <td>51447.000000</td>\n",
       "      <td>51447.000000</td>\n",
       "      <td>51447.000000</td>\n",
       "      <td>51447.000000</td>\n",
       "      <td>51447.000000</td>\n",
       "      <td>51447.000000</td>\n",
       "      <td>51447.000000</td>\n",
       "    </tr>\n",
       "    <tr>\n",
       "      <td>mean</td>\n",
       "      <td>12116.776177</td>\n",
       "      <td>2009.790386</td>\n",
       "      <td>2.637258</td>\n",
       "      <td>6.122223</td>\n",
       "      <td>115264.406204</td>\n",
       "      <td>0.496861</td>\n",
       "      <td>39.557020</td>\n",
       "      <td>3.005598</td>\n",
       "      <td>6.628666</td>\n",
       "      <td>2018.307404</td>\n",
       "      <td>9.517018</td>\n",
       "      <td>15322.692450</td>\n",
       "    </tr>\n",
       "    <tr>\n",
       "      <td>std</td>\n",
       "      <td>10025.141191</td>\n",
       "      <td>6.097762</td>\n",
       "      <td>0.712604</td>\n",
       "      <td>1.658142</td>\n",
       "      <td>60788.361902</td>\n",
       "      <td>0.499995</td>\n",
       "      <td>28.210247</td>\n",
       "      <td>1.997668</td>\n",
       "      <td>3.474282</td>\n",
       "      <td>0.461423</td>\n",
       "      <td>6.111383</td>\n",
       "      <td>11815.694994</td>\n",
       "    </tr>\n",
       "    <tr>\n",
       "      <td>min</td>\n",
       "      <td>1.000000</td>\n",
       "      <td>1908.000000</td>\n",
       "      <td>0.000000</td>\n",
       "      <td>3.000000</td>\n",
       "      <td>0.000000</td>\n",
       "      <td>0.000000</td>\n",
       "      <td>0.000000</td>\n",
       "      <td>0.000000</td>\n",
       "      <td>1.000000</td>\n",
       "      <td>2018.000000</td>\n",
       "      <td>1.000000</td>\n",
       "      <td>0.000000</td>\n",
       "    </tr>\n",
       "    <tr>\n",
       "      <td>25%</td>\n",
       "      <td>5000.000000</td>\n",
       "      <td>2007.000000</td>\n",
       "      <td>2.000000</td>\n",
       "      <td>4.000000</td>\n",
       "      <td>76629.000000</td>\n",
       "      <td>0.000000</td>\n",
       "      <td>19.000000</td>\n",
       "      <td>1.000000</td>\n",
       "      <td>3.000000</td>\n",
       "      <td>2018.000000</td>\n",
       "      <td>5.000000</td>\n",
       "      <td>9381.529412</td>\n",
       "    </tr>\n",
       "    <tr>\n",
       "      <td>50%</td>\n",
       "      <td>9000.000000</td>\n",
       "      <td>2011.000000</td>\n",
       "      <td>3.000000</td>\n",
       "      <td>6.000000</td>\n",
       "      <td>114677.000000</td>\n",
       "      <td>0.000000</td>\n",
       "      <td>33.000000</td>\n",
       "      <td>3.000000</td>\n",
       "      <td>7.000000</td>\n",
       "      <td>2018.000000</td>\n",
       "      <td>9.000000</td>\n",
       "      <td>13108.500000</td>\n",
       "    </tr>\n",
       "    <tr>\n",
       "      <td>75%</td>\n",
       "      <td>16800.000000</td>\n",
       "      <td>2014.000000</td>\n",
       "      <td>3.000000</td>\n",
       "      <td>8.000000</td>\n",
       "      <td>149000.000000</td>\n",
       "      <td>1.000000</td>\n",
       "      <td>53.000000</td>\n",
       "      <td>5.000000</td>\n",
       "      <td>10.000000</td>\n",
       "      <td>2019.000000</td>\n",
       "      <td>13.000000</td>\n",
       "      <td>18101.388889</td>\n",
       "    </tr>\n",
       "    <tr>\n",
       "      <td>max</td>\n",
       "      <td>375000.000000</td>\n",
       "      <td>2019.000000</td>\n",
       "      <td>5.000000</td>\n",
       "      <td>12.000000</td>\n",
       "      <td>990000.000000</td>\n",
       "      <td>1.000000</td>\n",
       "      <td>271.000000</td>\n",
       "      <td>6.000000</td>\n",
       "      <td>12.000000</td>\n",
       "      <td>2019.000000</td>\n",
       "      <td>111.000000</td>\n",
       "      <td>373200.000000</td>\n",
       "    </tr>\n",
       "  </tbody>\n",
       "</table>\n",
       "</div>"
      ],
      "text/plain": [
       "               price    model_year     condition     cylinders       odometer  \\\n",
       "count   51447.000000  51447.000000  51447.000000  51447.000000   51447.000000   \n",
       "mean    12116.776177   2009.790386      2.637258      6.122223  115264.406204   \n",
       "std     10025.141191      6.097762      0.712604      1.658142   60788.361902   \n",
       "min         1.000000   1908.000000      0.000000      3.000000       0.000000   \n",
       "25%      5000.000000   2007.000000      2.000000      4.000000   76629.000000   \n",
       "50%      9000.000000   2011.000000      3.000000      6.000000  114677.000000   \n",
       "75%     16800.000000   2014.000000      3.000000      8.000000  149000.000000   \n",
       "max    375000.000000   2019.000000      5.000000     12.000000  990000.000000   \n",
       "\n",
       "             is_4wd   days_listed           day         month          year  \\\n",
       "count  51447.000000  51447.000000  51447.000000  51447.000000  51447.000000   \n",
       "mean       0.496861     39.557020      3.005598      6.628666   2018.307404   \n",
       "std        0.499995     28.210247      1.997668      3.474282      0.461423   \n",
       "min        0.000000      0.000000      0.000000      1.000000   2018.000000   \n",
       "25%        0.000000     19.000000      1.000000      3.000000   2018.000000   \n",
       "50%        0.000000     33.000000      3.000000      7.000000   2018.000000   \n",
       "75%        1.000000     53.000000      5.000000     10.000000   2019.000000   \n",
       "max        1.000000    271.000000      6.000000     12.000000   2019.000000   \n",
       "\n",
       "                age   mileage_year  \n",
       "count  51447.000000   51447.000000  \n",
       "mean       9.517018   15322.692450  \n",
       "std        6.111383   11815.694994  \n",
       "min        1.000000       0.000000  \n",
       "25%        5.000000    9381.529412  \n",
       "50%        9.000000   13108.500000  \n",
       "75%       13.000000   18101.388889  \n",
       "max      111.000000  373200.000000  "
      ]
     },
     "execution_count": 48,
     "metadata": {},
     "output_type": "execute_result"
    }
   ],
   "source": [
    "data.describe()"
   ]
  },
  {
   "cell_type": "markdown",
   "metadata": {},
   "source": [
    "**We added 5 new columns that would be used in the next stage of our project: day, month, year, age, mileage_year and replaced condition values from strings to numbers.**"
   ]
  },
  {
   "cell_type": "markdown",
   "metadata": {},
   "source": [
    "## Carry out exploratory data analysis"
   ]
  },
  {
   "cell_type": "code",
   "execution_count": 49,
   "metadata": {},
   "outputs": [
    {
     "data": {
      "image/png": "[encoded data removed]",
      "text/plain": [
       "<Figure size 1080x720 with 6 Axes>"
      ]
     },
     "metadata": {
      "needs_background": "light"
     },
     "output_type": "display_data"
    }
   ],
   "source": [
    "data[['age', 'condition', 'cylinders', 'odometer', 'price']].hist(bins = 30, figsize = (15, 10))\n",
    "plt.suptitle('Histograms for the required parameters', y = 1);"
   ]
  },
  {
   "cell_type": "markdown",
   "metadata": {},
   "source": [
    "Closer look at the price histogram:"
   ]
  },
  {
   "cell_type": "code",
   "execution_count": 50,
   "metadata": {},
   "outputs": [
    {
     "data": {
      "image/png": "[encoded data removed]",
      "text/plain": [
       "<Figure size 432x288 with 1 Axes>"
      ]
     },
     "metadata": {
      "needs_background": "light"
     },
     "output_type": "display_data"
    }
   ],
   "source": [
    "data['price'].hist(bins=100, range=[0, 70000])\n",
    "plt.xlabel('Price')\n",
    "plt.ylabel('Frequency')\n",
    "plt.title(\"Vehicles Price\");"
   ]
  },
  {
   "cell_type": "markdown",
   "metadata": {},
   "source": [
    "Our price histogram is skewed to the right. The majority of the prices are in the price range of 1 to 30,000, with a long tail of high value prices. Histogram peaks at around 5000. The actual price range is between 1 to 375,000, with the mean at 12116 and median at 9000. Outliers significantly affect the readability of the histogram."
   ]
  },
  {
   "cell_type": "code",
   "execution_count": 51,
   "metadata": {},
   "outputs": [
    {
     "data": {
      "image/png": "[encoded data removed]",
      "text/plain": [
       "<Figure size 432x288 with 1 Axes>"
      ]
     },
     "metadata": {
      "needs_background": "light"
     },
     "output_type": "display_data"
    }
   ],
   "source": [
    "data['age'].hist(bins=20, range=[0, 60])\n",
    "plt.xlabel('Age')\n",
    "plt.ylabel('Frequency')\n",
    "plt.title(\"Vehicle's age when the ad was placed\");"
   ]
  },
  {
   "cell_type": "markdown",
   "metadata": {},
   "source": [
    "Histogram skewed right, same as the price histogram. The majority of vehicles ages are in the range of 1 to 20 years, with a long tail of higher value ages. The actual vehicle age range is between 1 to 111, with the mean at 9.5 and median at 9. Outliers significantly affect the readability of the histogram."
   ]
  },
  {
   "cell_type": "code",
   "execution_count": 52,
   "metadata": {},
   "outputs": [
    {
     "data": {
      "image/png": "[encoded data removed]",
      "text/plain": [
       "<Figure size 432x288 with 1 Axes>"
      ]
     },
     "metadata": {
      "needs_background": "light"
     },
     "output_type": "display_data"
    }
   ],
   "source": [
    "data['cylinders'].hist(bins=10)\n",
    "plt.xlabel('Cylinders')\n",
    "plt.ylabel('Frequency')\n",
    "plt.title(\"Vehicles cylinders\");"
   ]
  },
  {
   "cell_type": "markdown",
   "metadata": {},
   "source": [
    "The histogram isn't skewed like before. The vast majority of vehicles cylinder is one of 4, 6, 8. We have some cards with less than 4 and some with more than 8,  and a little bit with 5, but overall those are negligible compared to the total amount. No visible outliers."
   ]
  },
  {
   "cell_type": "code",
   "execution_count": 53,
   "metadata": {},
   "outputs": [
    {
     "data": {
      "image/png": "[encoded data removed]",
      "text/plain": [
       "<Figure size 432x288 with 1 Axes>"
      ]
     },
     "metadata": {
      "needs_background": "light"
     },
     "output_type": "display_data"
    }
   ],
   "source": [
    "data['odometer'].hist(bins=100, range=[0, 400000])\n",
    "plt.xlabel('Odometer')\n",
    "plt.ylabel('Frequency')\n",
    "plt.title(\"Vehicles mileage\");"
   ]
  },
  {
   "cell_type": "markdown",
   "metadata": {},
   "source": [
    "Histogram skewed right, same as the price histogram. The majority of vehicles mileage are in the range of 0 to 200,000, with a long tail of higher value ages. The actual vehicle mileage range is between 0 to 990000, with the mean at 115264 and median at 114677. Outliers significantly affect the readability of the histogram."
   ]
  },
  {
   "cell_type": "code",
   "execution_count": 54,
   "metadata": {},
   "outputs": [
    {
     "data": {
      "image/png": "[encoded data removed]",
      "text/plain": [
       "<Figure size 432x288 with 1 Axes>"
      ]
     },
     "metadata": {
      "needs_background": "light"
     },
     "output_type": "display_data"
    }
   ],
   "source": [
    "data['condition'].hist(bins=10)\n",
    "plt.xlabel('Condition')\n",
    "plt.ylabel('Frequency')\n",
    "plt.title(\"Vehicles condition\");"
   ]
  },
  {
   "cell_type": "markdown",
   "metadata": {},
   "source": [
    "The histogram isn't skewed like before. The vast majority of vehicles condition is either excellent, or good. Only 6 total options, no outliers."
   ]
  },
  {
   "cell_type": "markdown",
   "metadata": {},
   "source": [
    "**Determine the upper limits of outliers, remove the outliers and store them in a separate DataFrame**"
   ]
  },
  {
   "cell_type": "code",
   "execution_count": 55,
   "metadata": {},
   "outputs": [
    {
     "data": {
      "image/png": "[encoded data removed]",
      "text/plain": [
       "<Figure size 1080x720 with 4 Axes>"
      ]
     },
     "metadata": {
      "needs_background": "light"
     },
     "output_type": "display_data"
    }
   ],
   "source": [
    "filtered_data = data[['age', 'condition', 'cylinders', 'odometer', 'price']]\n",
    "Q1 = filtered_data.quantile(0.25)\n",
    "Q3 = filtered_data.quantile(0.75)\n",
    "IQR = Q3 - Q1\n",
    "filtered_data = filtered_data[~((filtered_data < (Q1 - 1.5 * IQR)) |(filtered_data > (Q3 + 1.5 * IQR))).any(axis=1)]\n",
    "filtered_data[['age', 'odometer', 'price']].hist(bins = 30, figsize = (15, 10))\n",
    "plt.suptitle('Updated histograms for the required parameters', y = 1);"
   ]
  },
  {
   "cell_type": "code",
   "execution_count": 56,
   "metadata": {},
   "outputs": [
    {
     "data": {
      "text/html": [
       "<div>\n",
       "<style scoped>\n",
       "    .dataframe tbody tr th:only-of-type {\n",
       "        vertical-align: middle;\n",
       "    }\n",
       "\n",
       "    .dataframe tbody tr th {\n",
       "        vertical-align: top;\n",
       "    }\n",
       "\n",
       "    .dataframe thead th {\n",
       "        text-align: right;\n",
       "    }\n",
       "</style>\n",
       "<table border=\"1\" class=\"dataframe\">\n",
       "  <thead>\n",
       "    <tr style=\"text-align: right;\">\n",
       "      <th></th>\n",
       "      <th>age</th>\n",
       "      <th>condition</th>\n",
       "      <th>cylinders</th>\n",
       "      <th>odometer</th>\n",
       "      <th>price</th>\n",
       "    </tr>\n",
       "  </thead>\n",
       "  <tbody>\n",
       "    <tr>\n",
       "      <td>count</td>\n",
       "      <td>48072.000000</td>\n",
       "      <td>48072.000000</td>\n",
       "      <td>48072.000000</td>\n",
       "      <td>48072.000000</td>\n",
       "      <td>48072.000000</td>\n",
       "    </tr>\n",
       "    <tr>\n",
       "      <td>mean</td>\n",
       "      <td>9.227617</td>\n",
       "      <td>2.637169</td>\n",
       "      <td>6.057414</td>\n",
       "      <td>113875.519762</td>\n",
       "      <td>11243.973290</td>\n",
       "    </tr>\n",
       "    <tr>\n",
       "      <td>std</td>\n",
       "      <td>5.045472</td>\n",
       "      <td>0.681031</td>\n",
       "      <td>1.656858</td>\n",
       "      <td>53415.361343</td>\n",
       "      <td>7819.053126</td>\n",
       "    </tr>\n",
       "    <tr>\n",
       "      <td>min</td>\n",
       "      <td>1.000000</td>\n",
       "      <td>1.000000</td>\n",
       "      <td>3.000000</td>\n",
       "      <td>0.000000</td>\n",
       "      <td>1.000000</td>\n",
       "    </tr>\n",
       "    <tr>\n",
       "      <td>25%</td>\n",
       "      <td>5.000000</td>\n",
       "      <td>2.000000</td>\n",
       "      <td>4.000000</td>\n",
       "      <td>79500.000000</td>\n",
       "      <td>5000.000000</td>\n",
       "    </tr>\n",
       "    <tr>\n",
       "      <td>50%</td>\n",
       "      <td>9.000000</td>\n",
       "      <td>3.000000</td>\n",
       "      <td>6.000000</td>\n",
       "      <td>115000.000000</td>\n",
       "      <td>8995.000000</td>\n",
       "    </tr>\n",
       "    <tr>\n",
       "      <td>75%</td>\n",
       "      <td>13.000000</td>\n",
       "      <td>3.000000</td>\n",
       "      <td>8.000000</td>\n",
       "      <td>147700.000000</td>\n",
       "      <td>15990.000000</td>\n",
       "    </tr>\n",
       "    <tr>\n",
       "      <td>max</td>\n",
       "      <td>25.000000</td>\n",
       "      <td>4.000000</td>\n",
       "      <td>12.000000</td>\n",
       "      <td>257500.000000</td>\n",
       "      <td>34500.000000</td>\n",
       "    </tr>\n",
       "  </tbody>\n",
       "</table>\n",
       "</div>"
      ],
      "text/plain": [
       "                age     condition     cylinders       odometer         price\n",
       "count  48072.000000  48072.000000  48072.000000   48072.000000  48072.000000\n",
       "mean       9.227617      2.637169      6.057414  113875.519762  11243.973290\n",
       "std        5.045472      0.681031      1.656858   53415.361343   7819.053126\n",
       "min        1.000000      1.000000      3.000000       0.000000      1.000000\n",
       "25%        5.000000      2.000000      4.000000   79500.000000   5000.000000\n",
       "50%        9.000000      3.000000      6.000000  115000.000000   8995.000000\n",
       "75%       13.000000      3.000000      8.000000  147700.000000  15990.000000\n",
       "max       25.000000      4.000000     12.000000  257500.000000  34500.000000"
      ]
     },
     "execution_count": 56,
     "metadata": {},
     "output_type": "execute_result"
    }
   ],
   "source": [
    "filtered_data.describe()"
   ]
  },
  {
   "cell_type": "markdown",
   "metadata": {},
   "source": [
    "We had 3 columns with significant outliers: price, age and odometer. We can see that the new histograms are not skewed anymore. Using the describe function we can see that the outliers are no longer part of the dataset.\n",
    "The extremely high max values for those columns are gone too. "
   ]
  },
  {
   "cell_type": "markdown",
   "metadata": {},
   "source": [
    "**Analyze how many days advertisements were displayed**"
   ]
  },
  {
   "cell_type": "code",
   "execution_count": 57,
   "metadata": {
    "scrolled": false
   },
   "outputs": [
    {
     "data": {
      "image/png": "[encoded data removed]",
      "text/plain": [
       "<Figure size 864x576 with 1 Axes>"
      ]
     },
     "metadata": {
      "needs_background": "light"
     },
     "output_type": "display_data"
    }
   ],
   "source": [
    "filtered_data[\"days_listed\"] = data[\"days_listed\"]\n",
    "filtered_data[\"days_listed\"].hist(bins=50, figsize=(12,8))\n",
    "plt.xlabel('Days listed')\n",
    "plt.ylabel('Frequency')\n",
    "plt.title(\"Number of days advertisements were displayed\");"
   ]
  },
  {
   "cell_type": "markdown",
   "metadata": {},
   "source": [
    "**Our days_listed histogram is skewed to the right. The majority amount of listed days are in the range of 0 to 120, with a long tail, up to 271 days. Histogram peaks at around 30 days. The actual range is between 0 to 271 days, with the mean at 39.5 and median at 33.**"
   ]
  },
  {
   "cell_type": "code",
   "execution_count": 58,
   "metadata": {},
   "outputs": [
    {
     "data": {
      "text/plain": [
       "count    48072.000000\n",
       "mean        39.548531\n",
       "std         28.232082\n",
       "min          0.000000\n",
       "25%         19.000000\n",
       "50%         33.000000\n",
       "75%         53.000000\n",
       "max        271.000000\n",
       "Name: days_listed, dtype: float64"
      ]
     },
     "execution_count": 58,
     "metadata": {},
     "output_type": "execute_result"
    }
   ],
   "source": [
    "filtered_data[\"days_listed\"].describe()"
   ]
  },
  {
   "cell_type": "code",
   "execution_count": 59,
   "metadata": {},
   "outputs": [
    {
     "name": "stdout",
     "output_type": "stream",
     "text": [
      "The mean is 40.0 days and the median is 33.0 days\n"
     ]
    }
   ],
   "source": [
    "print('The mean is {} days and the median is {} days'\n",
    "      .format(round(filtered_data['days_listed'].mean(),0), round(filtered_data['days_listed'].median(),0)))"
   ]
  },
  {
   "cell_type": "markdown",
   "metadata": {},
   "source": [
    "Based on the histogram most ads were listed for 0 to 50 days. Based on that, the median and mean, the typical lifetime of an ad is around 1 month."
   ]
  },
  {
   "cell_type": "code",
   "execution_count": 60,
   "metadata": {},
   "outputs": [
    {
     "data": {
      "text/plain": [
       "(801, 6)"
      ]
     },
     "execution_count": 60,
     "metadata": {},
     "output_type": "execute_result"
    }
   ],
   "source": [
    "filtered_data.query('days_listed >= 120').shape"
   ]
  },
  {
   "cell_type": "code",
   "execution_count": 61,
   "metadata": {},
   "outputs": [
    {
     "data": {
      "text/plain": [
       "(214, 6)"
      ]
     },
     "execution_count": 61,
     "metadata": {},
     "output_type": "execute_result"
    }
   ],
   "source": [
    "filtered_data.query('days_listed <= 1').shape"
   ]
  },
  {
   "cell_type": "markdown",
   "metadata": {},
   "source": [
    "There are 214 ads that were listed for 1 day or less, meaning the vehicle been bought on the same or next day.\n",
    "801 ads were listed for 4 months or more. 271 days is the most days ad was listed."
   ]
  },
  {
   "cell_type": "code",
   "execution_count": 62,
   "metadata": {},
   "outputs": [
    {
     "data": {
      "text/plain": [
       "(49, 6)"
      ]
     },
     "execution_count": 62,
     "metadata": {},
     "output_type": "execute_result"
    }
   ],
   "source": [
    "filtered_data.query('days_listed == 0').shape"
   ]
  },
  {
   "cell_type": "code",
   "execution_count": 63,
   "metadata": {},
   "outputs": [
    {
     "data": {
      "text/html": [
       "<div>\n",
       "<style scoped>\n",
       "    .dataframe tbody tr th:only-of-type {\n",
       "        vertical-align: middle;\n",
       "    }\n",
       "\n",
       "    .dataframe tbody tr th {\n",
       "        vertical-align: top;\n",
       "    }\n",
       "\n",
       "    .dataframe thead th {\n",
       "        text-align: right;\n",
       "    }\n",
       "</style>\n",
       "<table border=\"1\" class=\"dataframe\">\n",
       "  <thead>\n",
       "    <tr style=\"text-align: right;\">\n",
       "      <th></th>\n",
       "      <th>age</th>\n",
       "      <th>condition</th>\n",
       "      <th>cylinders</th>\n",
       "      <th>odometer</th>\n",
       "      <th>price</th>\n",
       "      <th>days_listed</th>\n",
       "    </tr>\n",
       "  </thead>\n",
       "  <tbody>\n",
       "    <tr>\n",
       "      <td>1246</td>\n",
       "      <td>11</td>\n",
       "      <td>3</td>\n",
       "      <td>8</td>\n",
       "      <td>93300</td>\n",
       "      <td>14995</td>\n",
       "      <td>0</td>\n",
       "    </tr>\n",
       "    <tr>\n",
       "      <td>1981</td>\n",
       "      <td>20</td>\n",
       "      <td>3</td>\n",
       "      <td>8</td>\n",
       "      <td>137500</td>\n",
       "      <td>14000</td>\n",
       "      <td>0</td>\n",
       "    </tr>\n",
       "    <tr>\n",
       "      <td>2879</td>\n",
       "      <td>15</td>\n",
       "      <td>3</td>\n",
       "      <td>8</td>\n",
       "      <td>250000</td>\n",
       "      <td>4000</td>\n",
       "      <td>0</td>\n",
       "    </tr>\n",
       "    <tr>\n",
       "      <td>4561</td>\n",
       "      <td>12</td>\n",
       "      <td>2</td>\n",
       "      <td>4</td>\n",
       "      <td>223000</td>\n",
       "      <td>5000</td>\n",
       "      <td>0</td>\n",
       "    </tr>\n",
       "    <tr>\n",
       "      <td>4894</td>\n",
       "      <td>18</td>\n",
       "      <td>2</td>\n",
       "      <td>8</td>\n",
       "      <td>99892</td>\n",
       "      <td>12500</td>\n",
       "      <td>0</td>\n",
       "    </tr>\n",
       "    <tr>\n",
       "      <td>6106</td>\n",
       "      <td>16</td>\n",
       "      <td>1</td>\n",
       "      <td>6</td>\n",
       "      <td>215457</td>\n",
       "      <td>500</td>\n",
       "      <td>0</td>\n",
       "    </tr>\n",
       "    <tr>\n",
       "      <td>6540</td>\n",
       "      <td>12</td>\n",
       "      <td>2</td>\n",
       "      <td>6</td>\n",
       "      <td>152400</td>\n",
       "      <td>4800</td>\n",
       "      <td>0</td>\n",
       "    </tr>\n",
       "    <tr>\n",
       "      <td>7027</td>\n",
       "      <td>12</td>\n",
       "      <td>3</td>\n",
       "      <td>6</td>\n",
       "      <td>137252</td>\n",
       "      <td>5900</td>\n",
       "      <td>0</td>\n",
       "    </tr>\n",
       "    <tr>\n",
       "      <td>9597</td>\n",
       "      <td>8</td>\n",
       "      <td>3</td>\n",
       "      <td>4</td>\n",
       "      <td>125000</td>\n",
       "      <td>4999</td>\n",
       "      <td>0</td>\n",
       "    </tr>\n",
       "    <tr>\n",
       "      <td>9722</td>\n",
       "      <td>16</td>\n",
       "      <td>2</td>\n",
       "      <td>8</td>\n",
       "      <td>90048</td>\n",
       "      <td>15000</td>\n",
       "      <td>0</td>\n",
       "    </tr>\n",
       "  </tbody>\n",
       "</table>\n",
       "</div>"
      ],
      "text/plain": [
       "      age  condition  cylinders  odometer  price  days_listed\n",
       "1246   11          3          8     93300  14995            0\n",
       "1981   20          3          8    137500  14000            0\n",
       "2879   15          3          8    250000   4000            0\n",
       "4561   12          2          4    223000   5000            0\n",
       "4894   18          2          8     99892  12500            0\n",
       "6106   16          1          6    215457    500            0\n",
       "6540   12          2          6    152400   4800            0\n",
       "7027   12          3          6    137252   5900            0\n",
       "9597    8          3          4    125000   4999            0\n",
       "9722   16          2          8     90048  15000            0"
      ]
     },
     "execution_count": 63,
     "metadata": {},
     "output_type": "execute_result"
    }
   ],
   "source": [
    "filtered_data[filtered_data['days_listed'] == 0].head(10)"
   ]
  },
  {
   "cell_type": "code",
   "execution_count": 64,
   "metadata": {},
   "outputs": [
    {
     "data": {
      "text/html": [
       "<div>\n",
       "<style scoped>\n",
       "    .dataframe tbody tr th:only-of-type {\n",
       "        vertical-align: middle;\n",
       "    }\n",
       "\n",
       "    .dataframe tbody tr th {\n",
       "        vertical-align: top;\n",
       "    }\n",
       "\n",
       "    .dataframe thead th {\n",
       "        text-align: right;\n",
       "    }\n",
       "</style>\n",
       "<table border=\"1\" class=\"dataframe\">\n",
       "  <thead>\n",
       "    <tr style=\"text-align: right;\">\n",
       "      <th></th>\n",
       "      <th>age</th>\n",
       "      <th>condition</th>\n",
       "      <th>cylinders</th>\n",
       "      <th>odometer</th>\n",
       "      <th>price</th>\n",
       "      <th>days_listed</th>\n",
       "    </tr>\n",
       "  </thead>\n",
       "  <tbody>\n",
       "    <tr>\n",
       "      <td>34</td>\n",
       "      <td>11</td>\n",
       "      <td>2</td>\n",
       "      <td>6</td>\n",
       "      <td>149799</td>\n",
       "      <td>9500</td>\n",
       "      <td>121</td>\n",
       "    </tr>\n",
       "    <tr>\n",
       "      <td>50</td>\n",
       "      <td>7</td>\n",
       "      <td>2</td>\n",
       "      <td>4</td>\n",
       "      <td>130323</td>\n",
       "      <td>3800</td>\n",
       "      <td>261</td>\n",
       "    </tr>\n",
       "    <tr>\n",
       "      <td>88</td>\n",
       "      <td>5</td>\n",
       "      <td>2</td>\n",
       "      <td>6</td>\n",
       "      <td>33926</td>\n",
       "      <td>18800</td>\n",
       "      <td>152</td>\n",
       "    </tr>\n",
       "    <tr>\n",
       "      <td>103</td>\n",
       "      <td>6</td>\n",
       "      <td>2</td>\n",
       "      <td>6</td>\n",
       "      <td>73711</td>\n",
       "      <td>22900</td>\n",
       "      <td>141</td>\n",
       "    </tr>\n",
       "    <tr>\n",
       "      <td>192</td>\n",
       "      <td>11</td>\n",
       "      <td>2</td>\n",
       "      <td>4</td>\n",
       "      <td>147000</td>\n",
       "      <td>6995</td>\n",
       "      <td>130</td>\n",
       "    </tr>\n",
       "    <tr>\n",
       "      <td>227</td>\n",
       "      <td>5</td>\n",
       "      <td>3</td>\n",
       "      <td>4</td>\n",
       "      <td>85452</td>\n",
       "      <td>8795</td>\n",
       "      <td>164</td>\n",
       "    </tr>\n",
       "    <tr>\n",
       "      <td>333</td>\n",
       "      <td>15</td>\n",
       "      <td>2</td>\n",
       "      <td>8</td>\n",
       "      <td>85104</td>\n",
       "      <td>13000</td>\n",
       "      <td>127</td>\n",
       "    </tr>\n",
       "    <tr>\n",
       "      <td>413</td>\n",
       "      <td>12</td>\n",
       "      <td>2</td>\n",
       "      <td>6</td>\n",
       "      <td>146000</td>\n",
       "      <td>7995</td>\n",
       "      <td>140</td>\n",
       "    </tr>\n",
       "    <tr>\n",
       "      <td>460</td>\n",
       "      <td>5</td>\n",
       "      <td>3</td>\n",
       "      <td>8</td>\n",
       "      <td>62500</td>\n",
       "      <td>27000</td>\n",
       "      <td>120</td>\n",
       "    </tr>\n",
       "    <tr>\n",
       "      <td>568</td>\n",
       "      <td>18</td>\n",
       "      <td>3</td>\n",
       "      <td>4</td>\n",
       "      <td>231089</td>\n",
       "      <td>7900</td>\n",
       "      <td>128</td>\n",
       "    </tr>\n",
       "  </tbody>\n",
       "</table>\n",
       "</div>"
      ],
      "text/plain": [
       "     age  condition  cylinders  odometer  price  days_listed\n",
       "34    11          2          6    149799   9500          121\n",
       "50     7          2          4    130323   3800          261\n",
       "88     5          2          6     33926  18800          152\n",
       "103    6          2          6     73711  22900          141\n",
       "192   11          2          4    147000   6995          130\n",
       "227    5          3          4     85452   8795          164\n",
       "333   15          2          8     85104  13000          127\n",
       "413   12          2          6    146000   7995          140\n",
       "460    5          3          8     62500  27000          120\n",
       "568   18          3          4    231089   7900          128"
      ]
     },
     "execution_count": 64,
     "metadata": {},
     "output_type": "execute_result"
    }
   ],
   "source": [
    "filtered_data[filtered_data['days_listed'] >= 120].head(10)"
   ]
  },
  {
   "cell_type": "markdown",
   "metadata": {},
   "source": [
    "**There are 49 listings that ended in less than a day, which seems too abnormally quick for a vehicle to find a new buyer and there isn't a pattern for such vehicles. I assume that those specific cases were good deals hence sold in less than a day. On the other hand, 801 vehicles were listed for 4 months or more, which is abnormally long. Again, there is no pattern here. I can assume that for those vehicles the prices were abnormally expensive.**"
   ]
  },
  {
   "cell_type": "markdown",
   "metadata": {},
   "source": [
    "**Analyze the number of ads and the average price for each type of vehicle**"
   ]
  },
  {
   "cell_type": "code",
   "execution_count": 65,
   "metadata": {},
   "outputs": [
    {
     "data": {
      "text/html": [
       "<div>\n",
       "<style scoped>\n",
       "    .dataframe tbody tr th:only-of-type {\n",
       "        vertical-align: middle;\n",
       "    }\n",
       "\n",
       "    .dataframe tbody tr th {\n",
       "        vertical-align: top;\n",
       "    }\n",
       "\n",
       "    .dataframe thead th {\n",
       "        text-align: right;\n",
       "    }\n",
       "</style>\n",
       "<table border=\"1\" class=\"dataframe\">\n",
       "  <thead>\n",
       "    <tr style=\"text-align: right;\">\n",
       "      <th></th>\n",
       "      <th>type</th>\n",
       "      <th>Ads</th>\n",
       "      <th>Average price</th>\n",
       "    </tr>\n",
       "  </thead>\n",
       "  <tbody>\n",
       "    <tr>\n",
       "      <td>0</td>\n",
       "      <td>SUV</td>\n",
       "      <td>11848</td>\n",
       "      <td>10453.884200</td>\n",
       "    </tr>\n",
       "    <tr>\n",
       "      <td>1</td>\n",
       "      <td>bus</td>\n",
       "      <td>23</td>\n",
       "      <td>17445.913043</td>\n",
       "    </tr>\n",
       "    <tr>\n",
       "      <td>2</td>\n",
       "      <td>convertible</td>\n",
       "      <td>350</td>\n",
       "      <td>12870.528571</td>\n",
       "    </tr>\n",
       "    <tr>\n",
       "      <td>3</td>\n",
       "      <td>coupe</td>\n",
       "      <td>2013</td>\n",
       "      <td>13496.071535</td>\n",
       "    </tr>\n",
       "    <tr>\n",
       "      <td>4</td>\n",
       "      <td>hatchback</td>\n",
       "      <td>997</td>\n",
       "      <td>6834.499498</td>\n",
       "    </tr>\n",
       "    <tr>\n",
       "      <td>5</td>\n",
       "      <td>mini-van</td>\n",
       "      <td>1137</td>\n",
       "      <td>8060.131926</td>\n",
       "    </tr>\n",
       "    <tr>\n",
       "      <td>6</td>\n",
       "      <td>offroad</td>\n",
       "      <td>182</td>\n",
       "      <td>14354.214286</td>\n",
       "    </tr>\n",
       "    <tr>\n",
       "      <td>7</td>\n",
       "      <td>other</td>\n",
       "      <td>234</td>\n",
       "      <td>10509.948718</td>\n",
       "    </tr>\n",
       "    <tr>\n",
       "      <td>8</td>\n",
       "      <td>pickup</td>\n",
       "      <td>6255</td>\n",
       "      <td>15077.672902</td>\n",
       "    </tr>\n",
       "    <tr>\n",
       "      <td>9</td>\n",
       "      <td>sedan</td>\n",
       "      <td>11920</td>\n",
       "      <td>6977.391359</td>\n",
       "    </tr>\n",
       "    <tr>\n",
       "      <td>10</td>\n",
       "      <td>truck</td>\n",
       "      <td>11047</td>\n",
       "      <td>15160.311759</td>\n",
       "    </tr>\n",
       "    <tr>\n",
       "      <td>11</td>\n",
       "      <td>van</td>\n",
       "      <td>572</td>\n",
       "      <td>8923.987762</td>\n",
       "    </tr>\n",
       "    <tr>\n",
       "      <td>12</td>\n",
       "      <td>wagon</td>\n",
       "      <td>1494</td>\n",
       "      <td>9020.840696</td>\n",
       "    </tr>\n",
       "  </tbody>\n",
       "</table>\n",
       "</div>"
      ],
      "text/plain": [
       "           type    Ads  Average price\n",
       "0           SUV  11848   10453.884200\n",
       "1           bus     23   17445.913043\n",
       "2   convertible    350   12870.528571\n",
       "3         coupe   2013   13496.071535\n",
       "4     hatchback    997    6834.499498\n",
       "5      mini-van   1137    8060.131926\n",
       "6       offroad    182   14354.214286\n",
       "7         other    234   10509.948718\n",
       "8        pickup   6255   15077.672902\n",
       "9         sedan  11920    6977.391359\n",
       "10        truck  11047   15160.311759\n",
       "11          van    572    8923.987762\n",
       "12        wagon   1494    9020.840696"
      ]
     },
     "execution_count": 65,
     "metadata": {},
     "output_type": "execute_result"
    }
   ],
   "source": [
    "filtered_data['type'] = data['type']\n",
    "ad_type = filtered_data.pivot_table(index=\"type\", \n",
    "                          values= [\"price\"], \n",
    "                          aggfunc =[\"count\", \n",
    "                                    \"mean\"])\n",
    "ad_type.columns= [\"Ads\", \"Average price\"]\n",
    "ad_type.reset_index()"
   ]
  },
  {
   "cell_type": "code",
   "execution_count": 66,
   "metadata": {},
   "outputs": [
    {
     "data": {
      "image/png": "[encoded data removed]",
      "text/plain": [
       "<Figure size 864x432 with 1 Axes>"
      ]
     },
     "metadata": {
      "needs_background": "light"
     },
     "output_type": "display_data"
    }
   ],
   "source": [
    "import seaborn as sns\n",
    "fig, ax = plt.subplots()\n",
    "fig.set_size_inches(12,6)\n",
    "b_chart=sns.barplot(x=ad_type.index, y=\"Ads\", data=ad_type, ax=ax, capsize=10)\n",
    "plt.title(\"Number of ads for each type of vehicle\",fontdict={\"size\":12})\n",
    "plt.ylabel(\"Number of Adds\", fontdict={\"size\":12})\n",
    "plt.xlabel(\"Vehicle Type\", fontdict={\"size\":12})\n",
    "for p in b_chart.patches:\n",
    "    b_chart.annotate(format(p.get_height(), '.0f'), \n",
    "                   (p.get_x() + p.get_width() / 2., p.get_height()), \n",
    "                   ha = 'center', va = 'center', \n",
    "                   xytext= (0, -8), \n",
    "                   textcoords = 'offset points', weight='bold')\n",
    "plt.show()"
   ]
  },
  {
   "cell_type": "code",
   "execution_count": 67,
   "metadata": {},
   "outputs": [
    {
     "data": {
      "text/plain": [
       "['sedan', 'SUV']"
      ]
     },
     "execution_count": 67,
     "metadata": {},
     "output_type": "execute_result"
    }
   ],
   "source": [
    "ad_type.sort_values(by=\"Ads\", ascending=False).index[0:2].tolist()"
   ]
  },
  {
   "cell_type": "markdown",
   "metadata": {},
   "source": [
    "**The two types with the greatest number of ads are Sedan and SUV**. Bus type has the lowest amount ads but the highest mean price."
   ]
  },
  {
   "cell_type": "markdown",
   "metadata": {},
   "source": [
    "**What factors impact the price most?**"
   ]
  },
  {
   "cell_type": "markdown",
   "metadata": {},
   "source": [
    "I'll study whether the price depends on age, mileage, condition, transmission type, and color. Let's start by adding transmission type and paint color to the filtered data:"
   ]
  },
  {
   "cell_type": "code",
   "execution_count": 68,
   "metadata": {},
   "outputs": [
    {
     "data": {
      "text/html": [
       "<div>\n",
       "<style scoped>\n",
       "    .dataframe tbody tr th:only-of-type {\n",
       "        vertical-align: middle;\n",
       "    }\n",
       "\n",
       "    .dataframe tbody tr th {\n",
       "        vertical-align: top;\n",
       "    }\n",
       "\n",
       "    .dataframe thead th {\n",
       "        text-align: right;\n",
       "    }\n",
       "</style>\n",
       "<table border=\"1\" class=\"dataframe\">\n",
       "  <thead>\n",
       "    <tr style=\"text-align: right;\">\n",
       "      <th></th>\n",
       "      <th>age</th>\n",
       "      <th>condition</th>\n",
       "      <th>cylinders</th>\n",
       "      <th>odometer</th>\n",
       "      <th>price</th>\n",
       "      <th>days_listed</th>\n",
       "      <th>type</th>\n",
       "      <th>transmission</th>\n",
       "      <th>paint_color</th>\n",
       "    </tr>\n",
       "  </thead>\n",
       "  <tbody>\n",
       "    <tr>\n",
       "      <td>0</td>\n",
       "      <td>8</td>\n",
       "      <td>2</td>\n",
       "      <td>6</td>\n",
       "      <td>145000</td>\n",
       "      <td>9400</td>\n",
       "      <td>19</td>\n",
       "      <td>SUV</td>\n",
       "      <td>automatic</td>\n",
       "      <td>other</td>\n",
       "    </tr>\n",
       "    <tr>\n",
       "      <td>1</td>\n",
       "      <td>9</td>\n",
       "      <td>2</td>\n",
       "      <td>6</td>\n",
       "      <td>88705</td>\n",
       "      <td>25500</td>\n",
       "      <td>50</td>\n",
       "      <td>pickup</td>\n",
       "      <td>automatic</td>\n",
       "      <td>white</td>\n",
       "    </tr>\n",
       "    <tr>\n",
       "      <td>2</td>\n",
       "      <td>7</td>\n",
       "      <td>4</td>\n",
       "      <td>4</td>\n",
       "      <td>110000</td>\n",
       "      <td>5500</td>\n",
       "      <td>79</td>\n",
       "      <td>sedan</td>\n",
       "      <td>automatic</td>\n",
       "      <td>red</td>\n",
       "    </tr>\n",
       "    <tr>\n",
       "      <td>3</td>\n",
       "      <td>17</td>\n",
       "      <td>1</td>\n",
       "      <td>8</td>\n",
       "      <td>124476</td>\n",
       "      <td>1500</td>\n",
       "      <td>9</td>\n",
       "      <td>pickup</td>\n",
       "      <td>automatic</td>\n",
       "      <td>other</td>\n",
       "    </tr>\n",
       "    <tr>\n",
       "      <td>4</td>\n",
       "      <td>3</td>\n",
       "      <td>3</td>\n",
       "      <td>4</td>\n",
       "      <td>80903</td>\n",
       "      <td>14900</td>\n",
       "      <td>28</td>\n",
       "      <td>sedan</td>\n",
       "      <td>automatic</td>\n",
       "      <td>black</td>\n",
       "    </tr>\n",
       "  </tbody>\n",
       "</table>\n",
       "</div>"
      ],
      "text/plain": [
       "   age  condition  cylinders  odometer  price  days_listed    type  \\\n",
       "0    8          2          6    145000   9400           19     SUV   \n",
       "1    9          2          6     88705  25500           50  pickup   \n",
       "2    7          4          4    110000   5500           79   sedan   \n",
       "3   17          1          8    124476   1500            9  pickup   \n",
       "4    3          3          4     80903  14900           28   sedan   \n",
       "\n",
       "  transmission paint_color  \n",
       "0    automatic       other  \n",
       "1    automatic       white  \n",
       "2    automatic         red  \n",
       "3    automatic       other  \n",
       "4    automatic       black  "
      ]
     },
     "execution_count": 68,
     "metadata": {},
     "output_type": "execute_result"
    }
   ],
   "source": [
    "filtered_data[[\"transmission\", \"paint_color\"]] = data[[\"transmission\", \"paint_color\"]]\n",
    "filtered_data.head()"
   ]
  },
  {
   "cell_type": "markdown",
   "metadata": {},
   "source": [
    "Check whether transmission type and paint colors have at least 50 ads:"
   ]
  },
  {
   "cell_type": "code",
   "execution_count": 69,
   "metadata": {},
   "outputs": [
    {
     "data": {
      "text/plain": [
       "automatic    43886\n",
       "manual        2439\n",
       "other         1747\n",
       "Name: transmission, dtype: int64"
      ]
     },
     "execution_count": 69,
     "metadata": {},
     "output_type": "execute_result"
    }
   ],
   "source": [
    "filtered_data[\"transmission\"].value_counts()"
   ]
  },
  {
   "cell_type": "code",
   "execution_count": 70,
   "metadata": {},
   "outputs": [
    {
     "data": {
      "text/plain": [
       "white     9153\n",
       "other     8668\n",
       "black     7153\n",
       "silver    5994\n",
       "grey      4778\n",
       "blue      4219\n",
       "red       4069\n",
       "green     1291\n",
       "brown     1129\n",
       "custom    1089\n",
       "yellow     227\n",
       "orange     213\n",
       "purple      89\n",
       "Name: paint_color, dtype: int64"
      ]
     },
     "execution_count": 70,
     "metadata": {},
     "output_type": "execute_result"
    }
   ],
   "source": [
    "filtered_data[\"paint_color\"].value_counts()"
   ]
  },
  {
   "cell_type": "markdown",
   "metadata": {},
   "source": [
    "Plotting box-and-whisker charts for transmission type and color:"
   ]
  },
  {
   "cell_type": "code",
   "execution_count": 71,
   "metadata": {},
   "outputs": [
    {
     "data": {
      "image/png": "[encoded data removed]",
      "text/plain": [
       "<Figure size 576x432 with 1 Axes>"
      ]
     },
     "metadata": {
      "needs_background": "light"
     },
     "output_type": "display_data"
    }
   ],
   "source": [
    "fig, ax = plt.subplots()\n",
    "fig.set_size_inches(8,6)\n",
    "sns.boxplot(x=\"transmission\", y=\"price\", data = filtered_data, linewidth =3, ax=ax)\n",
    "plt.title(\"Vehicle price by transmission\")\n",
    "plt.ylabel(\"Price\")\n",
    "plt.xlabel(\"Transmission type\")\n",
    "plt.show()\n",
    "\n"
   ]
  },
  {
   "cell_type": "markdown",
   "metadata": {},
   "source": [
    "The box plot confirmed that transmission type is related to the vehicle price - the \"other\" transmission type prices are significantly higher compared to automatic and manual."
   ]
  },
  {
   "cell_type": "code",
   "execution_count": 72,
   "metadata": {},
   "outputs": [
    {
     "data": {
      "image/png": "[encoded data removed]",
      "text/plain": [
       "<Figure size 864x432 with 1 Axes>"
      ]
     },
     "metadata": {
      "needs_background": "light"
     },
     "output_type": "display_data"
    }
   ],
   "source": [
    "fig, ax = plt.subplots()\n",
    "fig.set_size_inches(12,6)\n",
    "sns.boxplot(x=\"paint_color\", y=\"price\", data = filtered_data, linewidth =3, ax=ax)\n",
    "plt.title(\"Vehicle price by it's paint color\")\n",
    "plt.ylabel(\"Price\")\n",
    "plt.xlabel(\"Paint color\")\n",
    "plt.show()"
   ]
  },
  {
   "cell_type": "markdown",
   "metadata": {},
   "source": [
    "The box plot confirmed that there is no clear difference in price based on the color. Both purple and orange color are a little bit pricier, but their general amount is negligible compared to the rest of the colors and not indicating on a trend (89 purple, 213 orange vehicles). The distribution of price between different paint colors have a significant overlap, the color won't be a good indicator for a vehicle price."
   ]
  },
  {
   "cell_type": "markdown",
   "metadata": {},
   "source": [
    "**Scatterplots for vehicle age, mileage, condition**"
   ]
  },
  {
   "cell_type": "code",
   "execution_count": 73,
   "metadata": {},
   "outputs": [
    {
     "data": {
      "image/png": "[encoded data removed]",
      "text/plain": [
       "<Figure size 432x288 with 1 Axes>"
      ]
     },
     "metadata": {
      "needs_background": "light"
     },
     "output_type": "display_data"
    }
   ],
   "source": [
    "filtered_data.plot(y=\"price\", x= \"condition\", color=\"teal\", kind=\"scatter\", alpha=.1)\n",
    "plt.title(\"Vehicle price by condition\",fontdict={\"size\":12})\n",
    "plt.ylabel(\"Price\", fontdict={\"size\":12})\n",
    "plt.xlabel(\"Condition\", fontdict={\"size\":12})\n",
    "plt.show()\n"
   ]
  },
  {
   "cell_type": "markdown",
   "metadata": {},
   "source": [
    "It's clear from the scatterplots that vehicles in a good condition or better prices are more expensive."
   ]
  },
  {
   "cell_type": "code",
   "execution_count": 74,
   "metadata": {},
   "outputs": [
    {
     "data": {
      "image/png": "[encoded data removed]",
      "text/plain": [
       "<Figure size 432x288 with 1 Axes>"
      ]
     },
     "metadata": {
      "needs_background": "light"
     },
     "output_type": "display_data"
    }
   ],
   "source": [
    "filtered_data.plot(y=\"price\", x= \"odometer\", color= \"teal\", kind=\"scatter\", alpha=.1)\n",
    "plt.title(\"Vehicle price by mileage\",fontdict={\"size\":12})\n",
    "plt.ylabel(\"Price\", fontdict={\"size\":12})\n",
    "plt.xlabel(\"Mileage\", fontdict={\"size\":12})\n",
    "plt.show()"
   ]
  },
  {
   "cell_type": "markdown",
   "metadata": {},
   "source": [
    "It's clear from the scatterplots more mileage equals cheaper vehicle."
   ]
  },
  {
   "cell_type": "code",
   "execution_count": 75,
   "metadata": {},
   "outputs": [
    {
     "data": {
      "image/png": "[encoded data removed]",
      "text/plain": [
       "<Figure size 432x288 with 1 Axes>"
      ]
     },
     "metadata": {
      "needs_background": "light"
     },
     "output_type": "display_data"
    }
   ],
   "source": [
    "filtered_data.plot(y=\"price\", x= \"age\", kind=\"scatter\", color= \"teal\",alpha=.03)\n",
    "plt.title(\"Vehicle price by it's age\",fontdict={\"size\":12})\n",
    "plt.ylabel(\"Price\", fontdict={\"size\":12})\n",
    "plt.xlabel(\"Vehicle age\", fontdict={\"size\":12})\n",
    "plt.show()"
   ]
  },
  {
   "cell_type": "markdown",
   "metadata": {},
   "source": [
    "It's clear from the scatterplots older vehicle equals cheaper vehicle. "
   ]
  },
  {
   "cell_type": "markdown",
   "metadata": {},
   "source": [
    "      "
   ]
  },
  {
   "cell_type": "markdown",
   "metadata": {},
   "source": [
    "## Overall conclusion"
   ]
  },
  {
   "cell_type": "markdown",
   "metadata": {},
   "source": [
    "**Our main goal was to study data collected over the last few years and determine which factors influence the price of a vehicle, specifically vehicle age, paint color, transmission type, condition and the amount of mileage.**\n",
    "\n",
    "We prepared the dataset so we could study it:\n",
    "1. Removed or filled missing values in 5 columns.\n",
    "2. Changed data type of 5 columns to more suitable ones for our analysis.\n",
    "3. Made calculations and added 5 new columns to the dataset.\n",
    "4. Changed condition column from strings to numeric values.\n",
    "\n",
    "Now that we had clean dataset, we performed exploratory data analysis:\n",
    "1. We plotted histograms for the parameters 'age', 'condition', 'cylinders', 'odometer', 'price', and studied how outliers affected each histogram readability. We found that the parameters 'age', 'odometer', 'price' were affected by outliers, skewed right. \n",
    "2. We removed the outliers and saved the filtered data in new DataFrame, plotted new histograms using the filtered data, studied each histogram and drew conclusions for each of the 5 parameters.\n",
    "3. We plotted histogram for the parameter 'days_listed', studied the data and determined the typical lifetime of an ad (1 month). We also determined when ads were listed for too long or removed very quickly.\n",
    "4. We plotted a graph showing dependence of the number of ads on the vehicle types. We found that Sedan and SUV had the most ads listed.\n",
    "5. We plotted scatterplots or boxplots to each of age, mileage, condition, transmission type, and color, and determined if they had impact on the vehicle price. \n",
    "\n",
    "Those factors have significant impact on the vehicle price:\n",
    "* Transmission type, other type (not manual or automatic) vehicles are significantly more expensive.\n",
    "* Vehicle age impacts the price, newer vehicles are more expensive.\n",
    "* Vehicle condition impacts the price - vehicles labeled in good condition or better are significantly more expensive compared to the lower tiers.\n",
    "* Vehicle mileage impacts the price, more miles leads to cheaper vehicle.\n",
    "\n",
    "More conclusions:\n",
    "\n",
    "* Vehicle paint color doesn't impact the price significantly.\n",
    "\n",
    "* Sedan and SUV are the most popular vehicle types in the Crankshaft List.\n",
    "\n",
    "* The average selling window of a vehicle is around 1 month. Vehicles can get sold in the same day as listed or not at all in a very long time.\n",
    "\n",
    "* Outliers in the dataset have significant impact on it's readability."
   ]
  },
  {
   "cell_type": "markdown",
   "metadata": {},
   "source": [
    "# Project completion checklist\n",
    "\n",
    "Mark the completed tasks with 'x'. Then press Shift+Enter."
   ]
  },
  {
   "cell_type": "markdown",
   "metadata": {},
   "source": [
    "- [x]  file opened\n",
    "- [x]  files explored (first rows printed, info() method)\n",
    "- [x]  missing values determined\n",
    "- [x]  missing values filled in\n",
    "- [x]  clarification of the discovered missing values provided\n",
    "- [x]  data types converted\n",
    "- [x]  explanation of which columns had the data types changed and why\n",
    "- [x]  calculated and added to the table: day of the week, month, and year the ad was placed\n",
    "- [x]  calculated and added to the table: the vehicle's age (in years) when the ad was placed\n",
    "- [x]  calculated and added to the table: the vehicle's average mileage per year\n",
    "- [x]  the following parameters investigated: price, vehicle's age when the ad was placed, mileage, number of cylinders, and condition\n",
    "- [x]  histograms for each parameter created\n",
    "- [x]  task completed: \"Determine the upper limits of outliers, remove the outliers and store them in a separate DataFrame, and continue your work with the filtered data.\"\n",
    "- [x]  task completed: \"Use the filtered data to plot new histograms. Compare them with the earlier histograms (the ones that included outliers). Draw conclusions for each histogram.\"\n",
    "- [x]  task completed: \"Study how many days advertisements were displayed (days_listed). Plot a histogram. Calculate the mean and median. Describe the typical lifetime of an ad. Determine when ads were removed quickly, and when they were listed for an abnormally long time.  \"\n",
    "- [x]  task completed: \"Analyze the number of ads and the average price for each type of vehicle. Plot a graph showing the dependence of the number of ads on the vehicle type. Select the two types with the greatest number of ads. \"\n",
    "- [x]  task completed: \"What factors impact the price most? Take each of the popular types you detected at the previous stage and study whether the price depends on age, mileage, condition, transmission type, and color. For categorical variables (transmission type and color), plot box-and-whisker charts, and create scatterplots for the rest. When analyzing categorical variables, note that the categories must have at least 50 ads; otherwise, their parameters won't be valid for analysis.  \"\n",
    "- [x]  each stage has a conclusion\n",
    "- [x]  overall conclusion drawn"
   ]
  },
  {
   "cell_type": "code",
   "execution_count": null,
   "metadata": {},
   "outputs": [],
   "source": []
  }
 ],
 "metadata": {
  "ExecuteTimeLog": [
   {
    "duration": 1395,
    "start_time": "2021-06-25T19:25:23.937Z"
   },
   {
    "duration": 45,
    "start_time": "2021-06-25T19:25:25.335Z"
   },
   {
    "duration": 27,
    "start_time": "2021-06-25T19:25:25.384Z"
   },
   {
    "duration": 82,
    "start_time": "2021-06-25T19:25:25.414Z"
   },
   {
    "duration": 26,
    "start_time": "2021-06-25T19:25:25.499Z"
   },
   {
    "duration": 47,
    "start_time": "2021-06-25T19:25:25.527Z"
   },
   {
    "duration": 8,
    "start_time": "2021-06-25T19:25:25.577Z"
   },
   {
    "duration": 14,
    "start_time": "2021-06-25T19:25:25.591Z"
   },
   {
    "duration": 18,
    "start_time": "2021-06-25T19:25:25.609Z"
   },
   {
    "duration": 14,
    "start_time": "2021-06-25T19:25:25.668Z"
   },
   {
    "duration": 13,
    "start_time": "2021-06-25T19:25:25.685Z"
   },
   {
    "duration": 14,
    "start_time": "2021-06-25T19:25:25.701Z"
   },
   {
    "duration": 59,
    "start_time": "2021-06-25T19:25:25.717Z"
   },
   {
    "duration": 412,
    "start_time": "2021-06-25T19:25:25.778Z"
   },
   {
    "duration": 18,
    "start_time": "2021-06-25T19:25:26.193Z"
   },
   {
    "duration": 15,
    "start_time": "2021-06-25T19:25:26.214Z"
   },
   {
    "duration": 45,
    "start_time": "2021-06-25T19:25:26.231Z"
   },
   {
    "duration": 15,
    "start_time": "2021-06-25T19:25:26.278Z"
   },
   {
    "duration": 14,
    "start_time": "2021-06-25T19:25:26.295Z"
   },
   {
    "duration": 18,
    "start_time": "2021-06-25T19:25:26.312Z"
   },
   {
    "duration": 12,
    "start_time": "2021-06-25T19:25:26.368Z"
   },
   {
    "duration": 13,
    "start_time": "2021-06-25T19:25:26.382Z"
   },
   {
    "duration": 12,
    "start_time": "2021-06-25T19:25:26.401Z"
   },
   {
    "duration": 53,
    "start_time": "2021-06-25T19:25:26.417Z"
   },
   {
    "duration": 11853,
    "start_time": "2021-06-25T19:25:26.473Z"
   },
   {
    "duration": 21,
    "start_time": "2021-06-25T19:25:38.328Z"
   },
   {
    "duration": 12,
    "start_time": "2021-06-25T19:25:38.367Z"
   },
   {
    "duration": 19,
    "start_time": "2021-06-25T19:25:38.381Z"
   },
   {
    "duration": 11,
    "start_time": "2021-06-25T19:25:38.402Z"
   },
   {
    "duration": 12,
    "start_time": "2021-06-25T19:25:38.415Z"
   },
   {
    "duration": 48,
    "start_time": "2021-06-25T19:25:38.429Z"
   },
   {
    "duration": 14,
    "start_time": "2021-06-25T19:25:38.479Z"
   },
   {
    "duration": 360,
    "start_time": "2021-06-25T19:25:38.496Z"
   },
   {
    "duration": 24,
    "start_time": "2021-06-25T19:25:38.858Z"
   },
   {
    "duration": 23,
    "start_time": "2021-06-25T19:25:38.884Z"
   },
   {
    "duration": 58,
    "start_time": "2021-06-25T19:25:38.909Z"
   },
   {
    "duration": 43,
    "start_time": "2021-06-25T19:25:38.970Z"
   },
   {
    "duration": 8,
    "start_time": "2021-06-25T19:25:39.015Z"
   },
   {
    "duration": 13,
    "start_time": "2021-06-25T19:25:39.026Z"
   },
   {
    "duration": 32,
    "start_time": "2021-06-25T19:25:39.041Z"
   },
   {
    "duration": 20,
    "start_time": "2021-06-25T19:25:39.076Z"
   },
   {
    "duration": 11,
    "start_time": "2021-06-25T19:25:39.098Z"
   },
   {
    "duration": 10,
    "start_time": "2021-06-25T19:25:39.111Z"
   },
   {
    "duration": 52,
    "start_time": "2021-06-25T19:25:39.123Z"
   },
   {
    "duration": 91,
    "start_time": "2021-06-25T19:25:39.178Z"
   },
   {
    "duration": 27,
    "start_time": "2021-06-25T19:25:39.272Z"
   },
   {
    "duration": 106,
    "start_time": "2021-06-25T19:25:39.302Z"
   },
   {
    "duration": 2027,
    "start_time": "2021-06-25T19:25:39.411Z"
   },
   {
    "duration": 662,
    "start_time": "2021-06-25T19:25:41.440Z"
   },
   {
    "duration": 402,
    "start_time": "2021-06-25T19:25:42.105Z"
   },
   {
    "duration": 366,
    "start_time": "2021-06-25T19:25:42.509Z"
   },
   {
    "duration": 678,
    "start_time": "2021-06-25T19:25:42.878Z"
   },
   {
    "duration": 356,
    "start_time": "2021-06-25T19:25:43.558Z"
   },
   {
    "duration": 1486,
    "start_time": "2021-06-25T19:25:43.917Z"
   },
   {
    "duration": 39,
    "start_time": "2021-06-25T19:25:45.405Z"
   },
   {
    "duration": 623,
    "start_time": "2021-06-25T19:25:45.446Z"
   },
   {
    "duration": 11,
    "start_time": "2021-06-25T19:25:46.071Z"
   },
   {
    "duration": 7,
    "start_time": "2021-06-25T19:25:46.084Z"
   },
   {
    "duration": 16,
    "start_time": "2021-06-25T19:25:46.093Z"
   },
   {
    "duration": 9,
    "start_time": "2021-06-25T19:25:46.111Z"
   },
   {
    "duration": 81,
    "start_time": "2021-06-25T19:25:46.122Z"
   },
   {
    "duration": 1286,
    "start_time": "2021-06-25T19:25:46.205Z"
   },
   {
    "duration": 7,
    "start_time": "2021-06-25T19:25:47.493Z"
   },
   {
    "duration": 25,
    "start_time": "2021-06-25T19:25:47.502Z"
   },
   {
    "duration": 40,
    "start_time": "2021-06-25T19:25:47.530Z"
   },
   {
    "duration": 15,
    "start_time": "2021-06-25T19:25:47.572Z"
   },
   {
    "duration": 381,
    "start_time": "2021-06-25T19:25:47.589Z"
   },
   {
    "duration": 713,
    "start_time": "2021-06-25T19:25:47.977Z"
   },
   {
    "duration": 1062,
    "start_time": "2021-06-25T19:25:48.692Z"
   },
   {
    "duration": 1075,
    "start_time": "2021-06-25T19:25:49.757Z"
   },
   {
    "duration": 1066,
    "start_time": "2021-06-25T19:25:50.835Z"
   },
   {
    "duration": 1161,
    "start_time": "2021-06-26T07:49:40.974Z"
   },
   {
    "duration": 28,
    "start_time": "2021-06-26T07:49:42.138Z"
   },
   {
    "duration": 60,
    "start_time": "2021-06-26T07:49:42.170Z"
   },
   {
    "duration": 86,
    "start_time": "2021-06-26T07:49:42.234Z"
   },
   {
    "duration": 22,
    "start_time": "2021-06-26T07:49:42.323Z"
   },
   {
    "duration": 33,
    "start_time": "2021-06-26T07:49:42.348Z"
   },
   {
    "duration": 7,
    "start_time": "2021-06-26T07:49:42.400Z"
   },
   {
    "duration": 12,
    "start_time": "2021-06-26T07:49:42.411Z"
   },
   {
    "duration": 12,
    "start_time": "2021-06-26T07:49:42.427Z"
   },
   {
    "duration": 25,
    "start_time": "2021-06-26T07:49:42.441Z"
   },
   {
    "duration": 36,
    "start_time": "2021-06-26T07:49:42.468Z"
   },
   {
    "duration": 12,
    "start_time": "2021-06-26T07:49:42.506Z"
   },
   {
    "duration": 12,
    "start_time": "2021-06-26T07:49:42.521Z"
   },
   {
    "duration": 398,
    "start_time": "2021-06-26T07:49:42.535Z"
   },
   {
    "duration": 20,
    "start_time": "2021-06-26T07:49:42.936Z"
   },
   {
    "duration": 15,
    "start_time": "2021-06-26T07:49:42.958Z"
   },
   {
    "duration": 16,
    "start_time": "2021-06-26T07:49:43.000Z"
   },
   {
    "duration": 14,
    "start_time": "2021-06-26T07:49:43.019Z"
   },
   {
    "duration": 19,
    "start_time": "2021-06-26T07:49:43.036Z"
   },
   {
    "duration": 45,
    "start_time": "2021-06-26T07:49:43.058Z"
   },
   {
    "duration": 12,
    "start_time": "2021-06-26T07:49:43.105Z"
   },
   {
    "duration": 12,
    "start_time": "2021-06-26T07:49:43.120Z"
   },
   {
    "duration": 12,
    "start_time": "2021-06-26T07:49:43.138Z"
   },
   {
    "duration": 51,
    "start_time": "2021-06-26T07:49:43.154Z"
   },
   {
    "duration": 10223,
    "start_time": "2021-06-26T07:49:43.208Z"
   },
   {
    "duration": 21,
    "start_time": "2021-06-26T07:49:53.433Z"
   },
   {
    "duration": 12,
    "start_time": "2021-06-26T07:49:53.457Z"
   },
   {
    "duration": 43,
    "start_time": "2021-06-26T07:49:53.472Z"
   },
   {
    "duration": 11,
    "start_time": "2021-06-26T07:49:53.517Z"
   },
   {
    "duration": 12,
    "start_time": "2021-06-26T07:49:53.530Z"
   },
   {
    "duration": 16,
    "start_time": "2021-06-26T07:49:53.544Z"
   },
   {
    "duration": 48,
    "start_time": "2021-06-26T07:49:53.562Z"
   },
   {
    "duration": 364,
    "start_time": "2021-06-26T07:49:53.613Z"
   },
   {
    "duration": 34,
    "start_time": "2021-06-26T07:49:53.980Z"
   },
   {
    "duration": 22,
    "start_time": "2021-06-26T07:49:54.017Z"
   },
   {
    "duration": 30,
    "start_time": "2021-06-26T07:49:54.041Z"
   },
   {
    "duration": 65,
    "start_time": "2021-06-26T07:49:54.073Z"
   },
   {
    "duration": 10,
    "start_time": "2021-06-26T07:49:54.140Z"
   },
   {
    "duration": 11,
    "start_time": "2021-06-26T07:49:54.153Z"
   },
   {
    "duration": 42,
    "start_time": "2021-06-26T07:49:54.167Z"
   },
   {
    "duration": 10,
    "start_time": "2021-06-26T07:49:54.212Z"
   },
   {
    "duration": 8,
    "start_time": "2021-06-26T07:49:54.225Z"
   },
   {
    "duration": 9,
    "start_time": "2021-06-26T07:49:54.236Z"
   },
   {
    "duration": 71,
    "start_time": "2021-06-26T07:49:54.248Z"
   },
   {
    "duration": 88,
    "start_time": "2021-06-26T07:49:54.321Z"
   },
   {
    "duration": 27,
    "start_time": "2021-06-26T07:49:54.411Z"
   },
   {
    "duration": 105,
    "start_time": "2021-06-26T07:49:54.440Z"
   },
   {
    "duration": 1973,
    "start_time": "2021-06-26T07:49:54.547Z"
   },
   {
    "duration": 707,
    "start_time": "2021-06-26T07:49:56.523Z"
   },
   {
    "duration": 398,
    "start_time": "2021-06-26T07:49:57.233Z"
   },
   {
    "duration": 359,
    "start_time": "2021-06-26T07:49:57.633Z"
   },
   {
    "duration": 689,
    "start_time": "2021-06-26T07:49:57.994Z"
   },
   {
    "duration": 451,
    "start_time": "2021-06-26T07:49:58.686Z"
   },
   {
    "duration": 1539,
    "start_time": "2021-06-26T07:49:59.140Z"
   },
   {
    "duration": 50,
    "start_time": "2021-06-26T07:50:00.682Z"
   },
   {
    "duration": 771,
    "start_time": "2021-06-26T07:50:00.734Z"
   },
   {
    "duration": 13,
    "start_time": "2021-06-26T07:50:01.508Z"
   },
   {
    "duration": 37,
    "start_time": "2021-06-26T07:50:01.523Z"
   },
   {
    "duration": 42,
    "start_time": "2021-06-26T07:50:01.562Z"
   },
   {
    "duration": 18,
    "start_time": "2021-06-26T07:50:01.606Z"
   },
   {
    "duration": 49,
    "start_time": "2021-06-26T07:50:01.626Z"
   },
   {
    "duration": 1256,
    "start_time": "2021-06-26T07:50:01.677Z"
   },
   {
    "duration": 7,
    "start_time": "2021-06-26T07:50:02.936Z"
   },
   {
    "duration": 29,
    "start_time": "2021-06-26T07:50:02.945Z"
   },
   {
    "duration": 11,
    "start_time": "2021-06-26T07:50:02.977Z"
   },
   {
    "duration": 22,
    "start_time": "2021-06-26T07:50:02.990Z"
   },
   {
    "duration": 890,
    "start_time": "2021-06-26T07:50:03.015Z"
   },
   {
    "duration": 854,
    "start_time": "2021-06-26T07:50:03.912Z"
   },
   {
    "duration": 1165,
    "start_time": "2021-06-26T07:50:04.769Z"
   },
   {
    "duration": 1108,
    "start_time": "2021-06-26T07:50:05.937Z"
   },
   {
    "duration": 1010,
    "start_time": "2021-06-26T07:50:07.048Z"
   },
   {
    "duration": 833,
    "start_time": "2021-06-27T21:11:16.677Z"
   },
   {
    "duration": 15,
    "start_time": "2021-06-27T21:11:17.511Z"
   },
   {
    "duration": 17,
    "start_time": "2021-06-27T21:11:17.528Z"
   },
   {
    "duration": 56,
    "start_time": "2021-06-27T21:11:17.547Z"
   },
   {
    "duration": 17,
    "start_time": "2021-06-27T21:11:17.604Z"
   },
   {
    "duration": 18,
    "start_time": "2021-06-27T21:11:17.623Z"
   },
   {
    "duration": 6,
    "start_time": "2021-06-27T21:11:17.642Z"
   },
   {
    "duration": 7,
    "start_time": "2021-06-27T21:11:17.650Z"
   },
   {
    "duration": 9,
    "start_time": "2021-06-27T21:11:17.685Z"
   },
   {
    "duration": 8,
    "start_time": "2021-06-27T21:11:17.695Z"
   },
   {
    "duration": 7,
    "start_time": "2021-06-27T21:11:17.705Z"
   },
   {
    "duration": 7,
    "start_time": "2021-06-27T21:11:17.713Z"
   },
   {
    "duration": 8,
    "start_time": "2021-06-27T21:11:17.721Z"
   },
   {
    "duration": 227,
    "start_time": "2021-06-27T21:11:17.731Z"
   },
   {
    "duration": 4,
    "start_time": "2021-06-27T21:11:17.960Z"
   },
   {
    "duration": 24,
    "start_time": "2021-06-27T21:11:17.966Z"
   },
   {
    "duration": 9,
    "start_time": "2021-06-27T21:11:17.992Z"
   },
   {
    "duration": 9,
    "start_time": "2021-06-27T21:11:18.003Z"
   },
   {
    "duration": 9,
    "start_time": "2021-06-27T21:11:18.014Z"
   },
   {
    "duration": 8,
    "start_time": "2021-06-27T21:11:18.025Z"
   },
   {
    "duration": 7,
    "start_time": "2021-06-27T21:11:18.035Z"
   },
   {
    "duration": 43,
    "start_time": "2021-06-27T21:11:18.044Z"
   },
   {
    "duration": 8,
    "start_time": "2021-06-27T21:11:18.091Z"
   },
   {
    "duration": 8,
    "start_time": "2021-06-27T21:11:18.102Z"
   },
   {
    "duration": 7,
    "start_time": "2021-06-27T21:11:18.112Z"
   },
   {
    "duration": 5066,
    "start_time": "2021-06-27T21:11:18.121Z"
   },
   {
    "duration": 15,
    "start_time": "2021-06-27T21:11:23.189Z"
   },
   {
    "duration": 10,
    "start_time": "2021-06-27T21:11:23.206Z"
   },
   {
    "duration": 12,
    "start_time": "2021-06-27T21:11:23.218Z"
   },
   {
    "duration": 8,
    "start_time": "2021-06-27T21:11:23.232Z"
   },
   {
    "duration": 46,
    "start_time": "2021-06-27T21:11:23.242Z"
   },
   {
    "duration": 8,
    "start_time": "2021-06-27T21:11:23.290Z"
   },
   {
    "duration": 8,
    "start_time": "2021-06-27T21:11:23.300Z"
   },
   {
    "duration": 213,
    "start_time": "2021-06-27T21:11:23.310Z"
   },
   {
    "duration": 15,
    "start_time": "2021-06-27T21:11:23.525Z"
   },
   {
    "duration": 14,
    "start_time": "2021-06-27T21:11:23.542Z"
   },
   {
    "duration": 47,
    "start_time": "2021-06-27T21:11:23.557Z"
   },
   {
    "duration": 27,
    "start_time": "2021-06-27T21:11:23.606Z"
   },
   {
    "duration": 7,
    "start_time": "2021-06-27T21:11:23.634Z"
   },
   {
    "duration": 8,
    "start_time": "2021-06-27T21:11:23.642Z"
   },
   {
    "duration": 5,
    "start_time": "2021-06-27T21:11:23.652Z"
   },
   {
    "duration": 5,
    "start_time": "2021-06-27T21:11:23.685Z"
   },
   {
    "duration": 6,
    "start_time": "2021-06-27T21:11:23.692Z"
   },
   {
    "duration": 6,
    "start_time": "2021-06-27T21:11:23.699Z"
   },
   {
    "duration": 19,
    "start_time": "2021-06-27T21:11:23.706Z"
   },
   {
    "duration": 75,
    "start_time": "2021-06-27T21:11:23.726Z"
   },
   {
    "duration": 19,
    "start_time": "2021-06-27T21:11:23.802Z"
   },
   {
    "duration": 68,
    "start_time": "2021-06-27T21:11:23.823Z"
   },
   {
    "duration": 1206,
    "start_time": "2021-06-27T21:11:23.893Z"
   },
   {
    "duration": 405,
    "start_time": "2021-06-27T21:11:25.101Z"
   },
   {
    "duration": 238,
    "start_time": "2021-06-27T21:11:25.508Z"
   },
   {
    "duration": 219,
    "start_time": "2021-06-27T21:11:25.747Z"
   },
   {
    "duration": 405,
    "start_time": "2021-06-27T21:11:25.967Z"
   },
   {
    "duration": 212,
    "start_time": "2021-06-27T21:11:26.374Z"
   },
   {
    "duration": 821,
    "start_time": "2021-06-27T21:11:26.588Z"
   },
   {
    "duration": 27,
    "start_time": "2021-06-27T21:11:27.411Z"
   },
   {
    "duration": 354,
    "start_time": "2021-06-27T21:11:27.440Z"
   },
   {
    "duration": 8,
    "start_time": "2021-06-27T21:11:27.795Z"
   },
   {
    "duration": 4,
    "start_time": "2021-06-27T21:11:27.805Z"
   },
   {
    "duration": 9,
    "start_time": "2021-06-27T21:11:27.811Z"
   },
   {
    "duration": 5,
    "start_time": "2021-06-27T21:11:27.821Z"
   },
   {
    "duration": 7,
    "start_time": "2021-06-27T21:11:27.827Z"
   },
   {
    "duration": 9,
    "start_time": "2021-06-27T21:11:27.835Z"
   },
   {
    "duration": 10,
    "start_time": "2021-06-27T21:11:27.885Z"
   },
   {
    "duration": 26,
    "start_time": "2021-06-27T21:11:27.897Z"
   },
   {
    "duration": 871,
    "start_time": "2021-06-27T21:11:27.925Z"
   },
   {
    "duration": 4,
    "start_time": "2021-06-27T21:11:28.798Z"
   },
   {
    "duration": 15,
    "start_time": "2021-06-27T21:11:28.807Z"
   },
   {
    "duration": 7,
    "start_time": "2021-06-27T21:11:28.823Z"
   },
   {
    "duration": 9,
    "start_time": "2021-06-27T21:11:28.832Z"
   },
   {
    "duration": 227,
    "start_time": "2021-06-27T21:11:28.843Z"
   },
   {
    "duration": 403,
    "start_time": "2021-06-27T21:11:29.071Z"
   },
   {
    "duration": 709,
    "start_time": "2021-06-27T21:11:29.476Z"
   },
   {
    "duration": 744,
    "start_time": "2021-06-27T21:11:30.186Z"
   },
   {
    "duration": 695,
    "start_time": "2021-06-27T21:11:30.931Z"
   },
   {
    "duration": 796,
    "start_time": "2021-06-27T21:50:13.242Z"
   },
   {
    "duration": 17,
    "start_time": "2021-06-27T21:50:14.040Z"
   },
   {
    "duration": 30,
    "start_time": "2021-06-27T21:50:14.059Z"
   },
   {
    "duration": 35,
    "start_time": "2021-06-27T21:50:14.091Z"
   },
   {
    "duration": 16,
    "start_time": "2021-06-27T21:50:14.127Z"
   },
   {
    "duration": 45,
    "start_time": "2021-06-27T21:50:14.145Z"
   },
   {
    "duration": 5,
    "start_time": "2021-06-27T21:50:14.192Z"
   },
   {
    "duration": 7,
    "start_time": "2021-06-27T21:50:14.200Z"
   },
   {
    "duration": 8,
    "start_time": "2021-06-27T21:50:14.209Z"
   },
   {
    "duration": 8,
    "start_time": "2021-06-27T21:50:14.219Z"
   },
   {
    "duration": 7,
    "start_time": "2021-06-27T21:50:14.228Z"
   },
   {
    "duration": 50,
    "start_time": "2021-06-27T21:50:14.236Z"
   },
   {
    "duration": 9,
    "start_time": "2021-06-27T21:50:14.287Z"
   },
   {
    "duration": 211,
    "start_time": "2021-06-27T21:50:14.297Z"
   },
   {
    "duration": 5,
    "start_time": "2021-06-27T21:50:14.509Z"
   },
   {
    "duration": 14,
    "start_time": "2021-06-27T21:50:14.516Z"
   },
   {
    "duration": 9,
    "start_time": "2021-06-27T21:50:14.532Z"
   },
   {
    "duration": 46,
    "start_time": "2021-06-27T21:50:14.543Z"
   },
   {
    "duration": 9,
    "start_time": "2021-06-27T21:50:14.591Z"
   },
   {
    "duration": 10,
    "start_time": "2021-06-27T21:50:14.602Z"
   },
   {
    "duration": 9,
    "start_time": "2021-06-27T21:50:14.613Z"
   },
   {
    "duration": 8,
    "start_time": "2021-06-27T21:50:14.623Z"
   },
   {
    "duration": 7,
    "start_time": "2021-06-27T21:50:14.635Z"
   },
   {
    "duration": 46,
    "start_time": "2021-06-27T21:50:14.645Z"
   },
   {
    "duration": 7,
    "start_time": "2021-06-27T21:50:14.693Z"
   },
   {
    "duration": 5059,
    "start_time": "2021-06-27T21:50:14.702Z"
   },
   {
    "duration": 24,
    "start_time": "2021-06-27T21:50:19.762Z"
   },
   {
    "duration": 8,
    "start_time": "2021-06-27T21:50:19.787Z"
   },
   {
    "duration": 17,
    "start_time": "2021-06-27T21:50:19.796Z"
   },
   {
    "duration": 7,
    "start_time": "2021-06-27T21:50:19.814Z"
   },
   {
    "duration": 7,
    "start_time": "2021-06-27T21:50:19.823Z"
   },
   {
    "duration": 7,
    "start_time": "2021-06-27T21:50:19.832Z"
   },
   {
    "duration": 50,
    "start_time": "2021-06-27T21:50:19.841Z"
   },
   {
    "duration": 206,
    "start_time": "2021-06-27T21:50:19.893Z"
   },
   {
    "duration": 13,
    "start_time": "2021-06-27T21:50:20.100Z"
   },
   {
    "duration": 13,
    "start_time": "2021-06-27T21:50:20.115Z"
   },
   {
    "duration": 22,
    "start_time": "2021-06-27T21:50:20.130Z"
   },
   {
    "duration": 26,
    "start_time": "2021-06-27T21:50:20.184Z"
   },
   {
    "duration": 6,
    "start_time": "2021-06-27T21:50:20.212Z"
   },
   {
    "duration": 5,
    "start_time": "2021-06-27T21:50:20.220Z"
   },
   {
    "duration": 5,
    "start_time": "2021-06-27T21:50:20.227Z"
   },
   {
    "duration": 5,
    "start_time": "2021-06-27T21:50:20.234Z"
   },
   {
    "duration": 49,
    "start_time": "2021-06-27T21:50:20.240Z"
   },
   {
    "duration": 5,
    "start_time": "2021-06-27T21:50:20.290Z"
   },
   {
    "duration": 18,
    "start_time": "2021-06-27T21:50:20.297Z"
   },
   {
    "duration": 73,
    "start_time": "2021-06-27T21:50:20.317Z"
   },
   {
    "duration": 18,
    "start_time": "2021-06-27T21:50:20.392Z"
   },
   {
    "duration": 52,
    "start_time": "2021-06-27T21:50:20.412Z"
   },
   {
    "duration": 1179,
    "start_time": "2021-06-27T21:50:20.465Z"
   },
   {
    "duration": 399,
    "start_time": "2021-06-27T21:50:21.646Z"
   },
   {
    "duration": 244,
    "start_time": "2021-06-27T21:50:22.046Z"
   },
   {
    "duration": 223,
    "start_time": "2021-06-27T21:50:22.291Z"
   },
   {
    "duration": 408,
    "start_time": "2021-06-27T21:50:22.516Z"
   },
   {
    "duration": 212,
    "start_time": "2021-06-27T21:50:22.926Z"
   },
   {
    "duration": 844,
    "start_time": "2021-06-27T21:50:23.140Z"
   },
   {
    "duration": 29,
    "start_time": "2021-06-27T21:50:23.986Z"
   },
   {
    "duration": 386,
    "start_time": "2021-06-27T21:50:24.016Z"
   },
   {
    "duration": 9,
    "start_time": "2021-06-27T21:50:24.403Z"
   },
   {
    "duration": 4,
    "start_time": "2021-06-27T21:50:24.414Z"
   },
   {
    "duration": 9,
    "start_time": "2021-06-27T21:50:24.419Z"
   },
   {
    "duration": 9,
    "start_time": "2021-06-27T21:50:24.430Z"
   },
   {
    "duration": 6,
    "start_time": "2021-06-27T21:50:24.441Z"
   },
   {
    "duration": 44,
    "start_time": "2021-06-27T21:50:24.448Z"
   },
   {
    "duration": 10,
    "start_time": "2021-06-27T21:50:24.494Z"
   },
   {
    "duration": 27,
    "start_time": "2021-06-27T21:50:24.506Z"
   },
   {
    "duration": 899,
    "start_time": "2021-06-27T21:50:24.534Z"
   },
   {
    "duration": 5,
    "start_time": "2021-06-27T21:50:25.434Z"
   },
   {
    "duration": 16,
    "start_time": "2021-06-27T21:50:25.444Z"
   },
   {
    "duration": 29,
    "start_time": "2021-06-27T21:50:25.462Z"
   },
   {
    "duration": 10,
    "start_time": "2021-06-27T21:50:25.493Z"
   },
   {
    "duration": 238,
    "start_time": "2021-06-27T21:50:25.505Z"
   },
   {
    "duration": 441,
    "start_time": "2021-06-27T21:50:25.745Z"
   },
   {
    "duration": 722,
    "start_time": "2021-06-27T21:50:26.188Z"
   },
   {
    "duration": 732,
    "start_time": "2021-06-27T21:50:26.912Z"
   },
   {
    "duration": 690,
    "start_time": "2021-06-27T21:50:27.646Z"
   }
  ],
  "kernelspec": {
   "display_name": "Python 3",
   "language": "python",
   "name": "python3"
  },
  "language_info": {
   "codemirror_mode": {
    "name": "ipython",
    "version": 3
   },
   "file_extension": ".py",
   "mimetype": "text/x-python",
   "name": "python",
   "nbconvert_exporter": "python",
   "pygments_lexer": "ipython3",
   "version": "3.8.8"
  },
  "toc": {
   "base_numbering": 1,
   "nav_menu": {},
   "number_sections": true,
   "sideBar": true,
   "skip_h1_title": true,
   "title_cell": "Table of Contents",
   "title_sidebar": "Contents",
   "toc_cell": false,
   "toc_position": {},
   "toc_section_display": true,
   "toc_window_display": false
  }
 },
 "nbformat": 4,
 "nbformat_minor": 2
}
